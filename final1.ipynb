{
 "cells": [
  {
   "cell_type": "markdown",
   "id": "9b295182",
   "metadata": {},
   "source": [
    "𝑰𝑴𝑷𝑶𝑹𝑻 𝑳𝑰𝑩𝑹𝑨𝑹𝑰𝑬𝑺"
   ]
  },
  {
   "cell_type": "code",
   "execution_count": 1,
   "id": "023d396b",
   "metadata": {},
   "outputs": [],
   "source": [
    "# Importing the libraries \n",
    "\n",
    "import pandas as pd\n",
    "import numpy as np \n",
    "import matplotlib.pyplot as plt \n",
    "import seaborn as sns\n",
    "%matplotlib inline\n",
    "\n",
    "# Ignore harmless warnings \n",
    "\n",
    "import warnings \n",
    "warnings.filterwarnings(\"ignore\")\n",
    "\n",
    "# Set to display all the columns in dataset\n",
    "\n",
    "pd.set_option(\"display.max_columns\", None)\n",
    "\n",
    "# Import psql to run queries \n",
    "\n",
    "import pandasql as psql"
   ]
  },
  {
   "cell_type": "markdown",
   "id": "5b1917de",
   "metadata": {},
   "source": [
    "𝑰𝑴𝑷𝑶𝑹𝑻 𝑫𝑨𝑻𝑨𝑺𝑬𝑻"
   ]
  },
  {
   "cell_type": "code",
   "execution_count": 2,
   "id": "8371f071",
   "metadata": {},
   "outputs": [],
   "source": [
    "chunk_size=50000\n",
    "batch_no=1\n",
    "for chunk in pd.read_csv('train.csv',chunksize=chunk_size):\n",
    "    chunk.to_csv('chunktrain'+str(batch_no)+'.csv',index=False)\n",
    "    batch_no+=1"
   ]
  },
  {
   "cell_type": "code",
   "execution_count": 3,
   "id": "c2296725",
   "metadata": {},
   "outputs": [
    {
     "data": {
      "text/plain": [
       "(50000, 12)"
      ]
     },
     "execution_count": 3,
     "metadata": {},
     "output_type": "execute_result"
    }
   ],
   "source": [
    "train= pd.read_csv('chunktrain1.csv', header=0)\n",
    "train.shape"
   ]
  },
  {
   "cell_type": "markdown",
   "id": "d1820be3",
   "metadata": {},
   "source": [
    "𝑫𝑬𝑺𝑪𝑹𝑰𝑷𝑻𝑰𝑽𝑬 𝑨𝑵𝑨𝑳𝒀𝑺𝑰𝑺 "
   ]
  },
  {
   "cell_type": "code",
   "execution_count": 4,
   "id": "0814b706",
   "metadata": {},
   "outputs": [],
   "source": [
    "train_dup=train.copy()"
   ]
  },
  {
   "cell_type": "code",
   "execution_count": 5,
   "id": "caec4f1a",
   "metadata": {},
   "outputs": [
    {
     "name": "stdout",
     "output_type": "stream",
     "text": [
      "<class 'pandas.core.frame.DataFrame'>\n",
      "RangeIndex: 50000 entries, 0 to 49999\n",
      "Data columns (total 12 columns):\n",
      " #   Column                      Non-Null Count  Dtype  \n",
      "---  ------                      --------------  -----  \n",
      " 0   User_ID                     50000 non-null  int64  \n",
      " 1   Product_ID                  50000 non-null  object \n",
      " 2   Gender                      50000 non-null  object \n",
      " 3   Age                         50000 non-null  object \n",
      " 4   Occupation                  50000 non-null  int64  \n",
      " 5   City_Category               50000 non-null  object \n",
      " 6   Stay_In_Current_City_Years  50000 non-null  object \n",
      " 7   Marital_Status              50000 non-null  int64  \n",
      " 8   Product_Category_1          50000 non-null  int64  \n",
      " 9   Product_Category_2          34279 non-null  float64\n",
      " 10  Product_Category_3          15183 non-null  float64\n",
      " 11  Purchase                    50000 non-null  int64  \n",
      "dtypes: float64(2), int64(5), object(5)\n",
      "memory usage: 4.6+ MB\n"
     ]
    }
   ],
   "source": [
    "train.info()"
   ]
  },
  {
   "cell_type": "code",
   "execution_count": 6,
   "id": "76051bc9",
   "metadata": {},
   "outputs": [
    {
     "data": {
      "text/html": [
       "<div>\n",
       "<style scoped>\n",
       "    .dataframe tbody tr th:only-of-type {\n",
       "        vertical-align: middle;\n",
       "    }\n",
       "\n",
       "    .dataframe tbody tr th {\n",
       "        vertical-align: top;\n",
       "    }\n",
       "\n",
       "    .dataframe thead th {\n",
       "        text-align: right;\n",
       "    }\n",
       "</style>\n",
       "<table border=\"1\" class=\"dataframe\">\n",
       "  <thead>\n",
       "    <tr style=\"text-align: right;\">\n",
       "      <th></th>\n",
       "      <th>User_ID</th>\n",
       "      <th>Product_ID</th>\n",
       "      <th>Gender</th>\n",
       "      <th>Age</th>\n",
       "      <th>Occupation</th>\n",
       "      <th>City_Category</th>\n",
       "      <th>Stay_In_Current_City_Years</th>\n",
       "      <th>Marital_Status</th>\n",
       "      <th>Product_Category_1</th>\n",
       "      <th>Product_Category_2</th>\n",
       "      <th>Product_Category_3</th>\n",
       "      <th>Purchase</th>\n",
       "    </tr>\n",
       "  </thead>\n",
       "  <tbody>\n",
       "    <tr>\n",
       "      <th>0</th>\n",
       "      <td>1000001</td>\n",
       "      <td>P00069042</td>\n",
       "      <td>F</td>\n",
       "      <td>0-17</td>\n",
       "      <td>10</td>\n",
       "      <td>A</td>\n",
       "      <td>2</td>\n",
       "      <td>0</td>\n",
       "      <td>3</td>\n",
       "      <td>NaN</td>\n",
       "      <td>NaN</td>\n",
       "      <td>8370</td>\n",
       "    </tr>\n",
       "    <tr>\n",
       "      <th>1</th>\n",
       "      <td>1000001</td>\n",
       "      <td>P00248942</td>\n",
       "      <td>F</td>\n",
       "      <td>0-17</td>\n",
       "      <td>10</td>\n",
       "      <td>A</td>\n",
       "      <td>2</td>\n",
       "      <td>0</td>\n",
       "      <td>1</td>\n",
       "      <td>6.0</td>\n",
       "      <td>14.0</td>\n",
       "      <td>15200</td>\n",
       "    </tr>\n",
       "    <tr>\n",
       "      <th>2</th>\n",
       "      <td>1000001</td>\n",
       "      <td>P00087842</td>\n",
       "      <td>F</td>\n",
       "      <td>0-17</td>\n",
       "      <td>10</td>\n",
       "      <td>A</td>\n",
       "      <td>2</td>\n",
       "      <td>0</td>\n",
       "      <td>12</td>\n",
       "      <td>NaN</td>\n",
       "      <td>NaN</td>\n",
       "      <td>1422</td>\n",
       "    </tr>\n",
       "    <tr>\n",
       "      <th>3</th>\n",
       "      <td>1000001</td>\n",
       "      <td>P00085442</td>\n",
       "      <td>F</td>\n",
       "      <td>0-17</td>\n",
       "      <td>10</td>\n",
       "      <td>A</td>\n",
       "      <td>2</td>\n",
       "      <td>0</td>\n",
       "      <td>12</td>\n",
       "      <td>14.0</td>\n",
       "      <td>NaN</td>\n",
       "      <td>1057</td>\n",
       "    </tr>\n",
       "    <tr>\n",
       "      <th>4</th>\n",
       "      <td>1000002</td>\n",
       "      <td>P00285442</td>\n",
       "      <td>M</td>\n",
       "      <td>55+</td>\n",
       "      <td>16</td>\n",
       "      <td>C</td>\n",
       "      <td>4+</td>\n",
       "      <td>0</td>\n",
       "      <td>8</td>\n",
       "      <td>NaN</td>\n",
       "      <td>NaN</td>\n",
       "      <td>7969</td>\n",
       "    </tr>\n",
       "  </tbody>\n",
       "</table>\n",
       "</div>"
      ],
      "text/plain": [
       "   User_ID Product_ID Gender   Age  Occupation City_Category  \\\n",
       "0  1000001  P00069042      F  0-17          10             A   \n",
       "1  1000001  P00248942      F  0-17          10             A   \n",
       "2  1000001  P00087842      F  0-17          10             A   \n",
       "3  1000001  P00085442      F  0-17          10             A   \n",
       "4  1000002  P00285442      M   55+          16             C   \n",
       "\n",
       "  Stay_In_Current_City_Years  Marital_Status  Product_Category_1  \\\n",
       "0                          2               0                   3   \n",
       "1                          2               0                   1   \n",
       "2                          2               0                  12   \n",
       "3                          2               0                  12   \n",
       "4                         4+               0                   8   \n",
       "\n",
       "   Product_Category_2  Product_Category_3  Purchase  \n",
       "0                 NaN                 NaN      8370  \n",
       "1                 6.0                14.0     15200  \n",
       "2                 NaN                 NaN      1422  \n",
       "3                14.0                 NaN      1057  \n",
       "4                 NaN                 NaN      7969  "
      ]
     },
     "execution_count": 6,
     "metadata": {},
     "output_type": "execute_result"
    }
   ],
   "source": [
    "train.head()"
   ]
  },
  {
   "cell_type": "code",
   "execution_count": 7,
   "id": "1f025fb8",
   "metadata": {},
   "outputs": [],
   "source": [
    "chunk_size=20000\n",
    "batch_no=1\n",
    "for chunk in pd.read_csv('test.csv',chunksize=chunk_size):\n",
    "    chunk.to_csv('chunktest'+str(batch_no)+'.csv',index=False)\n",
    "    batch_no+=1"
   ]
  },
  {
   "cell_type": "code",
   "execution_count": 8,
   "id": "ab8bef88",
   "metadata": {},
   "outputs": [
    {
     "data": {
      "text/plain": [
       "(20000, 11)"
      ]
     },
     "execution_count": 8,
     "metadata": {},
     "output_type": "execute_result"
    }
   ],
   "source": [
    "test= pd.read_csv('chunktest1.csv', header=0)\n",
    "test.shape"
   ]
  },
  {
   "cell_type": "code",
   "execution_count": 9,
   "id": "3179794f",
   "metadata": {},
   "outputs": [],
   "source": [
    "test_dup=test.copy()"
   ]
  },
  {
   "cell_type": "code",
   "execution_count": 10,
   "id": "eb4df6b6",
   "metadata": {},
   "outputs": [
    {
     "data": {
      "text/plain": [
       "(50000, 12)"
      ]
     },
     "execution_count": 10,
     "metadata": {},
     "output_type": "execute_result"
    }
   ],
   "source": [
    "train_dup.shape"
   ]
  },
  {
   "cell_type": "code",
   "execution_count": 11,
   "id": "bc3e6404",
   "metadata": {},
   "outputs": [
    {
     "data": {
      "text/html": [
       "<div>\n",
       "<style scoped>\n",
       "    .dataframe tbody tr th:only-of-type {\n",
       "        vertical-align: middle;\n",
       "    }\n",
       "\n",
       "    .dataframe tbody tr th {\n",
       "        vertical-align: top;\n",
       "    }\n",
       "\n",
       "    .dataframe thead th {\n",
       "        text-align: right;\n",
       "    }\n",
       "</style>\n",
       "<table border=\"1\" class=\"dataframe\">\n",
       "  <thead>\n",
       "    <tr style=\"text-align: right;\">\n",
       "      <th></th>\n",
       "      <th>User_ID</th>\n",
       "      <th>Product_ID</th>\n",
       "      <th>Gender</th>\n",
       "      <th>Age</th>\n",
       "      <th>Occupation</th>\n",
       "      <th>City_Category</th>\n",
       "      <th>Stay_In_Current_City_Years</th>\n",
       "      <th>Marital_Status</th>\n",
       "      <th>Product_Category_1</th>\n",
       "      <th>Product_Category_2</th>\n",
       "      <th>Product_Category_3</th>\n",
       "      <th>Purchase</th>\n",
       "    </tr>\n",
       "  </thead>\n",
       "  <tbody>\n",
       "    <tr>\n",
       "      <th>0</th>\n",
       "      <td>1000001</td>\n",
       "      <td>P00069042</td>\n",
       "      <td>F</td>\n",
       "      <td>0-17</td>\n",
       "      <td>10</td>\n",
       "      <td>A</td>\n",
       "      <td>2</td>\n",
       "      <td>0</td>\n",
       "      <td>3</td>\n",
       "      <td>NaN</td>\n",
       "      <td>NaN</td>\n",
       "      <td>8370</td>\n",
       "    </tr>\n",
       "    <tr>\n",
       "      <th>1</th>\n",
       "      <td>1000001</td>\n",
       "      <td>P00248942</td>\n",
       "      <td>F</td>\n",
       "      <td>0-17</td>\n",
       "      <td>10</td>\n",
       "      <td>A</td>\n",
       "      <td>2</td>\n",
       "      <td>0</td>\n",
       "      <td>1</td>\n",
       "      <td>6.0</td>\n",
       "      <td>14.0</td>\n",
       "      <td>15200</td>\n",
       "    </tr>\n",
       "    <tr>\n",
       "      <th>2</th>\n",
       "      <td>1000001</td>\n",
       "      <td>P00087842</td>\n",
       "      <td>F</td>\n",
       "      <td>0-17</td>\n",
       "      <td>10</td>\n",
       "      <td>A</td>\n",
       "      <td>2</td>\n",
       "      <td>0</td>\n",
       "      <td>12</td>\n",
       "      <td>NaN</td>\n",
       "      <td>NaN</td>\n",
       "      <td>1422</td>\n",
       "    </tr>\n",
       "    <tr>\n",
       "      <th>3</th>\n",
       "      <td>1000001</td>\n",
       "      <td>P00085442</td>\n",
       "      <td>F</td>\n",
       "      <td>0-17</td>\n",
       "      <td>10</td>\n",
       "      <td>A</td>\n",
       "      <td>2</td>\n",
       "      <td>0</td>\n",
       "      <td>12</td>\n",
       "      <td>14.0</td>\n",
       "      <td>NaN</td>\n",
       "      <td>1057</td>\n",
       "    </tr>\n",
       "    <tr>\n",
       "      <th>4</th>\n",
       "      <td>1000002</td>\n",
       "      <td>P00285442</td>\n",
       "      <td>M</td>\n",
       "      <td>55+</td>\n",
       "      <td>16</td>\n",
       "      <td>C</td>\n",
       "      <td>4+</td>\n",
       "      <td>0</td>\n",
       "      <td>8</td>\n",
       "      <td>NaN</td>\n",
       "      <td>NaN</td>\n",
       "      <td>7969</td>\n",
       "    </tr>\n",
       "  </tbody>\n",
       "</table>\n",
       "</div>"
      ],
      "text/plain": [
       "   User_ID Product_ID Gender   Age  Occupation City_Category  \\\n",
       "0  1000001  P00069042      F  0-17          10             A   \n",
       "1  1000001  P00248942      F  0-17          10             A   \n",
       "2  1000001  P00087842      F  0-17          10             A   \n",
       "3  1000001  P00085442      F  0-17          10             A   \n",
       "4  1000002  P00285442      M   55+          16             C   \n",
       "\n",
       "  Stay_In_Current_City_Years  Marital_Status  Product_Category_1  \\\n",
       "0                          2               0                   3   \n",
       "1                          2               0                   1   \n",
       "2                          2               0                  12   \n",
       "3                          2               0                  12   \n",
       "4                         4+               0                   8   \n",
       "\n",
       "   Product_Category_2  Product_Category_3  Purchase  \n",
       "0                 NaN                 NaN      8370  \n",
       "1                 6.0                14.0     15200  \n",
       "2                 NaN                 NaN      1422  \n",
       "3                14.0                 NaN      1057  \n",
       "4                 NaN                 NaN      7969  "
      ]
     },
     "execution_count": 11,
     "metadata": {},
     "output_type": "execute_result"
    }
   ],
   "source": [
    "train_dup.head()"
   ]
  },
  {
   "cell_type": "code",
   "execution_count": 12,
   "id": "092cbd37",
   "metadata": {},
   "outputs": [
    {
     "data": {
      "text/html": [
       "<div>\n",
       "<style scoped>\n",
       "    .dataframe tbody tr th:only-of-type {\n",
       "        vertical-align: middle;\n",
       "    }\n",
       "\n",
       "    .dataframe tbody tr th {\n",
       "        vertical-align: top;\n",
       "    }\n",
       "\n",
       "    .dataframe thead th {\n",
       "        text-align: right;\n",
       "    }\n",
       "</style>\n",
       "<table border=\"1\" class=\"dataframe\">\n",
       "  <thead>\n",
       "    <tr style=\"text-align: right;\">\n",
       "      <th></th>\n",
       "      <th>User_ID</th>\n",
       "      <th>Product_ID</th>\n",
       "      <th>Gender</th>\n",
       "      <th>Age</th>\n",
       "      <th>Occupation</th>\n",
       "      <th>City_Category</th>\n",
       "      <th>Stay_In_Current_City_Years</th>\n",
       "      <th>Marital_Status</th>\n",
       "      <th>Product_Category_1</th>\n",
       "      <th>Product_Category_2</th>\n",
       "      <th>Product_Category_3</th>\n",
       "    </tr>\n",
       "  </thead>\n",
       "  <tbody>\n",
       "    <tr>\n",
       "      <th>0</th>\n",
       "      <td>1000004</td>\n",
       "      <td>P00128942</td>\n",
       "      <td>M</td>\n",
       "      <td>46-50</td>\n",
       "      <td>7</td>\n",
       "      <td>B</td>\n",
       "      <td>2</td>\n",
       "      <td>1</td>\n",
       "      <td>1</td>\n",
       "      <td>11.0</td>\n",
       "      <td>NaN</td>\n",
       "    </tr>\n",
       "    <tr>\n",
       "      <th>1</th>\n",
       "      <td>1000009</td>\n",
       "      <td>P00113442</td>\n",
       "      <td>M</td>\n",
       "      <td>26-35</td>\n",
       "      <td>17</td>\n",
       "      <td>C</td>\n",
       "      <td>0</td>\n",
       "      <td>0</td>\n",
       "      <td>3</td>\n",
       "      <td>5.0</td>\n",
       "      <td>NaN</td>\n",
       "    </tr>\n",
       "    <tr>\n",
       "      <th>2</th>\n",
       "      <td>1000010</td>\n",
       "      <td>P00288442</td>\n",
       "      <td>F</td>\n",
       "      <td>36-45</td>\n",
       "      <td>1</td>\n",
       "      <td>B</td>\n",
       "      <td>4+</td>\n",
       "      <td>1</td>\n",
       "      <td>5</td>\n",
       "      <td>14.0</td>\n",
       "      <td>NaN</td>\n",
       "    </tr>\n",
       "    <tr>\n",
       "      <th>3</th>\n",
       "      <td>1000010</td>\n",
       "      <td>P00145342</td>\n",
       "      <td>F</td>\n",
       "      <td>36-45</td>\n",
       "      <td>1</td>\n",
       "      <td>B</td>\n",
       "      <td>4+</td>\n",
       "      <td>1</td>\n",
       "      <td>4</td>\n",
       "      <td>9.0</td>\n",
       "      <td>NaN</td>\n",
       "    </tr>\n",
       "    <tr>\n",
       "      <th>4</th>\n",
       "      <td>1000011</td>\n",
       "      <td>P00053842</td>\n",
       "      <td>F</td>\n",
       "      <td>26-35</td>\n",
       "      <td>1</td>\n",
       "      <td>C</td>\n",
       "      <td>1</td>\n",
       "      <td>0</td>\n",
       "      <td>4</td>\n",
       "      <td>5.0</td>\n",
       "      <td>12.0</td>\n",
       "    </tr>\n",
       "  </tbody>\n",
       "</table>\n",
       "</div>"
      ],
      "text/plain": [
       "   User_ID Product_ID Gender    Age  Occupation City_Category  \\\n",
       "0  1000004  P00128942      M  46-50           7             B   \n",
       "1  1000009  P00113442      M  26-35          17             C   \n",
       "2  1000010  P00288442      F  36-45           1             B   \n",
       "3  1000010  P00145342      F  36-45           1             B   \n",
       "4  1000011  P00053842      F  26-35           1             C   \n",
       "\n",
       "  Stay_In_Current_City_Years  Marital_Status  Product_Category_1  \\\n",
       "0                          2               1                   1   \n",
       "1                          0               0                   3   \n",
       "2                         4+               1                   5   \n",
       "3                         4+               1                   4   \n",
       "4                          1               0                   4   \n",
       "\n",
       "   Product_Category_2  Product_Category_3  \n",
       "0                11.0                 NaN  \n",
       "1                 5.0                 NaN  \n",
       "2                14.0                 NaN  \n",
       "3                 9.0                 NaN  \n",
       "4                 5.0                12.0  "
      ]
     },
     "execution_count": 12,
     "metadata": {},
     "output_type": "execute_result"
    }
   ],
   "source": [
    "test_dup.head()"
   ]
  },
  {
   "cell_type": "code",
   "execution_count": 13,
   "id": "49302316",
   "metadata": {},
   "outputs": [
    {
     "name": "stdout",
     "output_type": "stream",
     "text": [
      "<class 'pandas.core.frame.DataFrame'>\n",
      "RangeIndex: 50000 entries, 0 to 49999\n",
      "Data columns (total 12 columns):\n",
      " #   Column                      Non-Null Count  Dtype  \n",
      "---  ------                      --------------  -----  \n",
      " 0   User_ID                     50000 non-null  int64  \n",
      " 1   Product_ID                  50000 non-null  object \n",
      " 2   Gender                      50000 non-null  object \n",
      " 3   Age                         50000 non-null  object \n",
      " 4   Occupation                  50000 non-null  int64  \n",
      " 5   City_Category               50000 non-null  object \n",
      " 6   Stay_In_Current_City_Years  50000 non-null  object \n",
      " 7   Marital_Status              50000 non-null  int64  \n",
      " 8   Product_Category_1          50000 non-null  int64  \n",
      " 9   Product_Category_2          34279 non-null  float64\n",
      " 10  Product_Category_3          15183 non-null  float64\n",
      " 11  Purchase                    50000 non-null  int64  \n",
      "dtypes: float64(2), int64(5), object(5)\n",
      "memory usage: 4.6+ MB\n"
     ]
    }
   ],
   "source": [
    "train_dup.info()"
   ]
  },
  {
   "cell_type": "code",
   "execution_count": 14,
   "id": "3b7c024c",
   "metadata": {},
   "outputs": [
    {
     "name": "stdout",
     "output_type": "stream",
     "text": [
      "<class 'pandas.core.frame.DataFrame'>\n",
      "RangeIndex: 20000 entries, 0 to 19999\n",
      "Data columns (total 11 columns):\n",
      " #   Column                      Non-Null Count  Dtype  \n",
      "---  ------                      --------------  -----  \n",
      " 0   User_ID                     20000 non-null  int64  \n",
      " 1   Product_ID                  20000 non-null  object \n",
      " 2   Gender                      20000 non-null  object \n",
      " 3   Age                         20000 non-null  object \n",
      " 4   Occupation                  20000 non-null  int64  \n",
      " 5   City_Category               20000 non-null  object \n",
      " 6   Stay_In_Current_City_Years  20000 non-null  object \n",
      " 7   Marital_Status              20000 non-null  int64  \n",
      " 8   Product_Category_1          20000 non-null  int64  \n",
      " 9   Product_Category_2          13949 non-null  float64\n",
      " 10  Product_Category_3          6200 non-null   float64\n",
      "dtypes: float64(2), int64(4), object(5)\n",
      "memory usage: 1.7+ MB\n"
     ]
    }
   ],
   "source": [
    "test_dup.info()"
   ]
  },
  {
   "cell_type": "code",
   "execution_count": 15,
   "id": "04148202",
   "metadata": {},
   "outputs": [
    {
     "data": {
      "text/plain": [
       "User_ID                           0\n",
       "Product_ID                        0\n",
       "Gender                            0\n",
       "Age                               0\n",
       "Occupation                        0\n",
       "City_Category                     0\n",
       "Stay_In_Current_City_Years        0\n",
       "Marital_Status                    0\n",
       "Product_Category_1                0\n",
       "Product_Category_2             6051\n",
       "Product_Category_3            13800\n",
       "dtype: int64"
      ]
     },
     "execution_count": 15,
     "metadata": {},
     "output_type": "execute_result"
    }
   ],
   "source": [
    "test_dup.isnull().sum()"
   ]
  },
  {
   "cell_type": "code",
   "execution_count": 16,
   "id": "0502c2d0",
   "metadata": {},
   "outputs": [
    {
     "data": {
      "text/html": [
       "<div>\n",
       "<style scoped>\n",
       "    .dataframe tbody tr th:only-of-type {\n",
       "        vertical-align: middle;\n",
       "    }\n",
       "\n",
       "    .dataframe tbody tr th {\n",
       "        vertical-align: top;\n",
       "    }\n",
       "\n",
       "    .dataframe thead th {\n",
       "        text-align: right;\n",
       "    }\n",
       "</style>\n",
       "<table border=\"1\" class=\"dataframe\">\n",
       "  <thead>\n",
       "    <tr style=\"text-align: right;\">\n",
       "      <th></th>\n",
       "      <th>User_ID</th>\n",
       "      <th>Product_ID</th>\n",
       "      <th>Gender</th>\n",
       "      <th>Age</th>\n",
       "      <th>Occupation</th>\n",
       "      <th>City_Category</th>\n",
       "      <th>Stay_In_Current_City_Years</th>\n",
       "      <th>Marital_Status</th>\n",
       "      <th>Product_Category_1</th>\n",
       "      <th>Product_Category_2</th>\n",
       "      <th>Product_Category_3</th>\n",
       "      <th>Purchase</th>\n",
       "    </tr>\n",
       "  </thead>\n",
       "  <tbody>\n",
       "  </tbody>\n",
       "</table>\n",
       "</div>"
      ],
      "text/plain": [
       "Empty DataFrame\n",
       "Columns: [User_ID, Product_ID, Gender, Age, Occupation, City_Category, Stay_In_Current_City_Years, Marital_Status, Product_Category_1, Product_Category_2, Product_Category_3, Purchase]\n",
       "Index: []"
      ]
     },
     "execution_count": 16,
     "metadata": {},
     "output_type": "execute_result"
    }
   ],
   "source": [
    "SP_dup = train_dup[train_dup.duplicated(keep='last')]\n",
    "SP_dup"
   ]
  },
  {
   "cell_type": "code",
   "execution_count": 17,
   "id": "75f4c11e",
   "metadata": {},
   "outputs": [
    {
     "data": {
      "text/plain": [
       "'# Re-setting the row index\\n\\nHIE_df = HIE_df.reset_index(drop=True)'"
      ]
     },
     "execution_count": 17,
     "metadata": {},
     "output_type": "execute_result"
    }
   ],
   "source": [
    "\"\"\"# Re-setting the row index\n",
    "\n",
    "HIE_df = HIE_df.reset_index(drop=True)\"\"\""
   ]
  },
  {
   "cell_type": "code",
   "execution_count": 18,
   "id": "54942473",
   "metadata": {
    "scrolled": true
   },
   "outputs": [
    {
     "data": {
      "text/plain": [
       "User_ID                           0\n",
       "Product_ID                        0\n",
       "Gender                            0\n",
       "Age                               0\n",
       "Occupation                        0\n",
       "City_Category                     0\n",
       "Stay_In_Current_City_Years        0\n",
       "Marital_Status                    0\n",
       "Product_Category_1                0\n",
       "Product_Category_2            15721\n",
       "Product_Category_3            34817\n",
       "Purchase                          0\n",
       "dtype: int64"
      ]
     },
     "execution_count": 18,
     "metadata": {},
     "output_type": "execute_result"
    }
   ],
   "source": [
    "train_dup.isnull().sum()"
   ]
  },
  {
   "cell_type": "code",
   "execution_count": 19,
   "id": "44a1d2b9",
   "metadata": {},
   "outputs": [
    {
     "data": {
      "text/plain": [
       "User_ID                        5424\n",
       "Product_ID                     3098\n",
       "Gender                            2\n",
       "Age                               7\n",
       "Occupation                       21\n",
       "City_Category                     3\n",
       "Stay_In_Current_City_Years        5\n",
       "Marital_Status                    2\n",
       "Product_Category_1               18\n",
       "Product_Category_2               17\n",
       "Product_Category_3               15\n",
       "Purchase                      11772\n",
       "dtype: int64"
      ]
     },
     "execution_count": 19,
     "metadata": {},
     "output_type": "execute_result"
    }
   ],
   "source": [
    "train_dup.nunique()"
   ]
  },
  {
   "cell_type": "markdown",
   "id": "81c7df91",
   "metadata": {},
   "source": [
    "𝑫𝑨𝑻𝑨 𝑬𝑿𝑷𝑳𝑶𝑹𝑨𝑻𝑶𝑹𝒀 𝑨𝑵𝑨𝑳𝒀𝑺𝑰𝑺"
   ]
  },
  {
   "cell_type": "markdown",
   "id": "053043a9",
   "metadata": {},
   "source": [
    "𝑫𝑨𝑻𝑨 𝑷𝑹𝑬𝑷𝑹𝑶𝑪𝑬𝑺𝑺𝑰𝑵𝑮"
   ]
  },
  {
   "cell_type": "code",
   "execution_count": null,
   "id": "d5657fa3",
   "metadata": {},
   "outputs": [],
   "source": []
  },
  {
   "cell_type": "code",
   "execution_count": 20,
   "id": "3e5e9c10",
   "metadata": {},
   "outputs": [],
   "source": [
    "train_dup['source'] = 'train_dup'\n",
    "test_dup['source'] = 'test_dup'"
   ]
  },
  {
   "cell_type": "code",
   "execution_count": 21,
   "id": "465352b6",
   "metadata": {},
   "outputs": [],
   "source": [
    "dataset = pd.concat([train_dup, test_dup])"
   ]
  },
  {
   "cell_type": "code",
   "execution_count": 22,
   "id": "4d6f52cc",
   "metadata": {},
   "outputs": [],
   "source": [
    "dataset['Age'] = dataset['Age'].apply(lambda x : str(x).replace('55+', '55'))"
   ]
  },
  {
   "cell_type": "code",
   "execution_count": 23,
   "id": "8cfb6c34",
   "metadata": {},
   "outputs": [],
   "source": [
    "dataset['Stay_In_Current_City_Years'] = dataset['Stay_In_Current_City_Years'].apply(lambda x : str(x).replace('4+', '4'))"
   ]
  },
  {
   "cell_type": "code",
   "execution_count": 24,
   "id": "e97fb16b",
   "metadata": {},
   "outputs": [],
   "source": [
    "del dataset['User_ID']\n",
    "del dataset['Product_ID']"
   ]
  },
  {
   "cell_type": "code",
   "execution_count": 25,
   "id": "48d06d9a",
   "metadata": {},
   "outputs": [
    {
     "name": "stdout",
     "output_type": "stream",
     "text": [
      "<class 'pandas.core.frame.DataFrame'>\n",
      "Int64Index: 70000 entries, 0 to 19999\n",
      "Data columns (total 11 columns):\n",
      " #   Column                      Non-Null Count  Dtype  \n",
      "---  ------                      --------------  -----  \n",
      " 0   Gender                      70000 non-null  object \n",
      " 1   Age                         70000 non-null  object \n",
      " 2   Occupation                  70000 non-null  int64  \n",
      " 3   City_Category               70000 non-null  object \n",
      " 4   Stay_In_Current_City_Years  70000 non-null  object \n",
      " 5   Marital_Status              70000 non-null  int64  \n",
      " 6   Product_Category_1          70000 non-null  int64  \n",
      " 7   Product_Category_2          48228 non-null  float64\n",
      " 8   Product_Category_3          21383 non-null  float64\n",
      " 9   Purchase                    50000 non-null  float64\n",
      " 10  source                      70000 non-null  object \n",
      "dtypes: float64(3), int64(3), object(5)\n",
      "memory usage: 6.4+ MB\n"
     ]
    }
   ],
   "source": [
    "dataset.info()"
   ]
  },
  {
   "cell_type": "code",
   "execution_count": 26,
   "id": "46fcc129",
   "metadata": {},
   "outputs": [
    {
     "data": {
      "text/plain": [
       "0        train_dup\n",
       "1        train_dup\n",
       "2        train_dup\n",
       "3        train_dup\n",
       "4        train_dup\n",
       "           ...    \n",
       "19995     test_dup\n",
       "19996     test_dup\n",
       "19997     test_dup\n",
       "19998     test_dup\n",
       "19999     test_dup\n",
       "Name: source, Length: 70000, dtype: object"
      ]
     },
     "execution_count": 26,
     "metadata": {},
     "output_type": "execute_result"
    }
   ],
   "source": [
    "dataset['source']"
   ]
  },
  {
   "cell_type": "code",
   "execution_count": 27,
   "id": "0a67a6bd",
   "metadata": {},
   "outputs": [],
   "source": [
    "from sklearn.preprocessing import LabelEncoder\n",
    "LE=LabelEncoder()\n",
    "dataset['Gender'] = LE.fit_transform(dataset['Gender'])\n",
    "dataset['Age'] = LE.fit_transform(dataset['Age'])\n",
    "dataset['City_Category'] = LE.fit_transform(dataset['City_Category'])"
   ]
  },
  {
   "cell_type": "code",
   "execution_count": 28,
   "id": "b0655f83",
   "metadata": {},
   "outputs": [
    {
     "name": "stdout",
     "output_type": "stream",
     "text": [
      "<class 'pandas.core.frame.DataFrame'>\n",
      "Int64Index: 70000 entries, 0 to 19999\n",
      "Data columns (total 11 columns):\n",
      " #   Column                      Non-Null Count  Dtype  \n",
      "---  ------                      --------------  -----  \n",
      " 0   Gender                      70000 non-null  int32  \n",
      " 1   Age                         70000 non-null  int32  \n",
      " 2   Occupation                  70000 non-null  int64  \n",
      " 3   City_Category               70000 non-null  int32  \n",
      " 4   Stay_In_Current_City_Years  70000 non-null  object \n",
      " 5   Marital_Status              70000 non-null  int64  \n",
      " 6   Product_Category_1          70000 non-null  int64  \n",
      " 7   Product_Category_2          48228 non-null  float64\n",
      " 8   Product_Category_3          21383 non-null  float64\n",
      " 9   Purchase                    50000 non-null  float64\n",
      " 10  source                      70000 non-null  object \n",
      "dtypes: float64(3), int32(3), int64(3), object(2)\n",
      "memory usage: 5.6+ MB\n"
     ]
    }
   ],
   "source": [
    "dataset.info()"
   ]
  },
  {
   "cell_type": "code",
   "execution_count": 29,
   "id": "d67a08a9",
   "metadata": {},
   "outputs": [],
   "source": [
    "\n",
    "#as stay_in_curent _cities is alreadya nuber convert to int\n",
    "dataset['Stay_In_Current_City_Years'] = dataset['Stay_In_Current_City_Years'].astype('int')"
   ]
  },
  {
   "cell_type": "code",
   "execution_count": 30,
   "id": "ba384953",
   "metadata": {
    "scrolled": true
   },
   "outputs": [
    {
     "name": "stdout",
     "output_type": "stream",
     "text": [
      "<class 'pandas.core.frame.DataFrame'>\n",
      "Int64Index: 70000 entries, 0 to 19999\n",
      "Data columns (total 11 columns):\n",
      " #   Column                      Non-Null Count  Dtype  \n",
      "---  ------                      --------------  -----  \n",
      " 0   Gender                      70000 non-null  int32  \n",
      " 1   Age                         70000 non-null  int32  \n",
      " 2   Occupation                  70000 non-null  int64  \n",
      " 3   City_Category               70000 non-null  int32  \n",
      " 4   Stay_In_Current_City_Years  70000 non-null  int32  \n",
      " 5   Marital_Status              70000 non-null  int64  \n",
      " 6   Product_Category_1          70000 non-null  int64  \n",
      " 7   Product_Category_2          48228 non-null  float64\n",
      " 8   Product_Category_3          21383 non-null  float64\n",
      " 9   Purchase                    50000 non-null  float64\n",
      " 10  source                      70000 non-null  object \n",
      "dtypes: float64(3), int32(4), int64(3), object(1)\n",
      "memory usage: 5.3+ MB\n"
     ]
    }
   ],
   "source": [
    "dataset.info()"
   ]
  },
  {
   "cell_type": "code",
   "execution_count": 31,
   "id": "e0408bdd",
   "metadata": {},
   "outputs": [],
   "source": [
    "dataset['Product_Category_2'].fillna(dataset['Product_Category_2'].median(), inplace = True)"
   ]
  },
  {
   "cell_type": "code",
   "execution_count": 32,
   "id": "3e430a36",
   "metadata": {},
   "outputs": [],
   "source": [
    "dataset['Product_Category_3'].fillna(dataset['Product_Category_3'].median(), inplace = True)"
   ]
  },
  {
   "cell_type": "code",
   "execution_count": 33,
   "id": "cfb25048",
   "metadata": {},
   "outputs": [
    {
     "data": {
      "text/plain": [
       "Gender                            0\n",
       "Age                               0\n",
       "Occupation                        0\n",
       "City_Category                     0\n",
       "Stay_In_Current_City_Years        0\n",
       "Marital_Status                    0\n",
       "Product_Category_1                0\n",
       "Product_Category_2                0\n",
       "Product_Category_3                0\n",
       "Purchase                      20000\n",
       "source                            0\n",
       "dtype: int64"
      ]
     },
     "execution_count": 33,
     "metadata": {},
     "output_type": "execute_result"
    }
   ],
   "source": [
    "dataset.isnull().sum()"
   ]
  },
  {
   "cell_type": "code",
   "execution_count": 34,
   "id": "3c89d398",
   "metadata": {},
   "outputs": [],
   "source": [
    "train_dup= dataset.loc[dataset['source'] == 'train_dup']\n",
    "test_dup= dataset.loc[dataset['source'] == 'test_dup']"
   ]
  },
  {
   "cell_type": "code",
   "execution_count": 35,
   "id": "5de7e559",
   "metadata": {},
   "outputs": [],
   "source": [
    "train_dup.drop('source', axis = 1, inplace = True)\n",
    "test_dup.drop('source', axis = 1, inplace = True)"
   ]
  },
  {
   "cell_type": "code",
   "execution_count": 36,
   "id": "d77ba0ea",
   "metadata": {},
   "outputs": [
    {
     "data": {
      "image/png": "[encoded data removed]",
      "text/plain": [
       "<Figure size 432x288 with 1 Axes>"
      ]
     },
     "metadata": {
      "needs_background": "light"
     },
     "output_type": "display_data"
    }
   ],
   "source": [
    "# Plot Histogram\n",
    "\n",
    "plt.hist(train_dup.Purchase, bins=20, rwidth=0.8)\n",
    "plt.xlabel('Purchase')\n",
    "plt.ylabel('Count')\n",
    "plt.show()"
   ]
  },
  {
   "cell_type": "code",
   "execution_count": 37,
   "id": "053098ad",
   "metadata": {},
   "outputs": [
    {
     "data": {
      "text/plain": [
       "[<matplotlib.lines.Line2D at 0x234057fca00>]"
      ]
     },
     "execution_count": 37,
     "metadata": {},
     "output_type": "execute_result"
    },
    {
     "data": {
      "image/png": "[encoded data removed]",
      "text/plain": [
       "<Figure size 432x288 with 1 Axes>"
      ]
     },
     "metadata": {
      "needs_background": "light"
     },
     "output_type": "display_data"
    }
   ],
   "source": [
    "# Gaussian distribution (also known as normal distribution) is a bell-shaped curve\n",
    "\n",
    "from scipy.stats import norm\n",
    "\n",
    "plt.hist(train_dup.Purchase, bins=20, rwidth=0.8, density=True)\n",
    "plt.xlabel('Purchase')\n",
    "plt.ylabel('Count')\n",
    "\n",
    "rng = np.arange(train_dup.Purchase.min(), train_dup.Purchase.max(), 0.1)\n",
    "plt.plot(rng, norm.pdf(rng, train_dup.Purchase.mean(),train_dup.Purchase.std()))"
   ]
  },
  {
   "cell_type": "code",
   "execution_count": 38,
   "id": "be75ec5a",
   "metadata": {},
   "outputs": [
    {
     "data": {
      "text/plain": [
       "0"
      ]
     },
     "execution_count": 38,
     "metadata": {},
     "output_type": "execute_result"
    }
   ],
   "source": [
    "#outliers seeing\n",
    "# Outlier detection and remove by using Z score (-3 to +3)\n",
    "# Z score indicate how many standard deviation away a data point is\n",
    "# Calculate the Z score = (X - m)/Sigma, where m = mean, Sigma = standard deviation\n",
    "\n",
    "train_dup['ZScore'] = (train_dup.Purchase - train_dup.Purchase.mean()) / train_dup.Purchase.std()\n",
    "train_new2 = train_dup[(train_dup.ZScore>-3) & (train_dup.ZScore<3)]\n",
    "train_dup.shape[0] - train_new2.shape[0]"
   ]
  },
  {
   "cell_type": "code",
   "execution_count": 39,
   "id": "cdc439af",
   "metadata": {},
   "outputs": [
    {
     "data": {
      "text/html": [
       "<div>\n",
       "<style scoped>\n",
       "    .dataframe tbody tr th:only-of-type {\n",
       "        vertical-align: middle;\n",
       "    }\n",
       "\n",
       "    .dataframe tbody tr th {\n",
       "        vertical-align: top;\n",
       "    }\n",
       "\n",
       "    .dataframe thead th {\n",
       "        text-align: right;\n",
       "    }\n",
       "</style>\n",
       "<table border=\"1\" class=\"dataframe\">\n",
       "  <thead>\n",
       "    <tr style=\"text-align: right;\">\n",
       "      <th></th>\n",
       "      <th>Gender</th>\n",
       "      <th>Age</th>\n",
       "      <th>Occupation</th>\n",
       "      <th>City_Category</th>\n",
       "      <th>Stay_In_Current_City_Years</th>\n",
       "      <th>Marital_Status</th>\n",
       "      <th>Product_Category_1</th>\n",
       "      <th>Product_Category_2</th>\n",
       "      <th>Product_Category_3</th>\n",
       "      <th>Purchase</th>\n",
       "      <th>ZScore</th>\n",
       "    </tr>\n",
       "  </thead>\n",
       "  <tbody>\n",
       "  </tbody>\n",
       "</table>\n",
       "</div>"
      ],
      "text/plain": [
       "Empty DataFrame\n",
       "Columns: [Gender, Age, Occupation, City_Category, Stay_In_Current_City_Years, Marital_Status, Product_Category_1, Product_Category_2, Product_Category_3, Purchase, ZScore]\n",
       "Index: []"
      ]
     },
     "execution_count": 39,
     "metadata": {},
     "output_type": "execute_result"
    }
   ],
   "source": [
    "train_dup[(train_dup.ZScore<-3) & (train_dup.ZScore>3)]"
   ]
  },
  {
   "cell_type": "code",
   "execution_count": null,
   "id": "7218f2d2",
   "metadata": {},
   "outputs": [],
   "source": [
    "train_dup.drop('ZScore', axis = 1, inplace = True)"
   ]
  },
  {
   "cell_type": "code",
   "execution_count": 36,
   "id": "c508235f",
   "metadata": {},
   "outputs": [],
   "source": [
    "IndepVar = []\n",
    "for col in train_dup.columns:\n",
    "    if col != 'Purchase':\n",
    "        IndepVar.append(col)\n",
    "\n",
    "TargetVar = 'Purchase'\n",
    "\n",
    "x= train_dup[IndepVar]\n",
    "y= train_dup[TargetVar]"
   ]
  },
  {
   "cell_type": "code",
   "execution_count": 37,
   "id": "44b1831d",
   "metadata": {},
   "outputs": [],
   "source": [
    "mm_cols=['Age','Occupation','City_Category','Stay_In_Current_City_Years','Product_Category_1','Product_Category_2','Product_Category_3']"
   ]
  },
  {
   "cell_type": "code",
   "execution_count": 38,
   "id": "14a5e54f",
   "metadata": {},
   "outputs": [],
   "source": [
    "# Split the data into train and test (random sampling)\n",
    "\n",
    "from sklearn.model_selection import train_test_split \n",
    "\n",
    "x_train, x_test, y_train, y_test = train_test_split(x, y, test_size=0.3, random_state=42)\n",
    "\n",
    "x_train_bk = x_train.copy()\n",
    "x_test_bk = x_test.copy()"
   ]
  },
  {
   "cell_type": "code",
   "execution_count": 39,
   "id": "8db0d3df",
   "metadata": {},
   "outputs": [],
   "source": [
    "# Scaling the features by using MinMaxScaler\n",
    "\n",
    "from sklearn.preprocessing import MinMaxScaler\n",
    "\n",
    "mmscaler = MinMaxScaler(feature_range=(0, 1))\n",
    "\n",
    "x_train[mm_cols] = mmscaler.fit_transform(x_train[mm_cols])\n",
    "x_train = pd.DataFrame(x_train)\n",
    "\n",
    "x_test[mm_cols] = mmscaler.fit_transform(x_test[mm_cols])\n",
    "x_test = pd.DataFrame(x_test)"
   ]
  },
  {
   "cell_type": "code",
   "execution_count": 40,
   "id": "b58f2486",
   "metadata": {},
   "outputs": [
    {
     "data": {
      "text/html": [
       "<div>\n",
       "<style scoped>\n",
       "    .dataframe tbody tr th:only-of-type {\n",
       "        vertical-align: middle;\n",
       "    }\n",
       "\n",
       "    .dataframe tbody tr th {\n",
       "        vertical-align: top;\n",
       "    }\n",
       "\n",
       "    .dataframe thead th {\n",
       "        text-align: right;\n",
       "    }\n",
       "</style>\n",
       "<table border=\"1\" class=\"dataframe\">\n",
       "  <thead>\n",
       "    <tr style=\"text-align: right;\">\n",
       "      <th></th>\n",
       "      <th>Model Name</th>\n",
       "      <th>Mean_Absolute_Error_MAE</th>\n",
       "      <th>Adj_R_Square</th>\n",
       "      <th>Root_Mean_Squared_Error_RMSE</th>\n",
       "      <th>Mean_Absolute_Percentage_Error_MAPE</th>\n",
       "      <th>Mean_Squared_Error_MSE</th>\n",
       "      <th>Root_Mean_Squared_Log_Error_RMSLE</th>\n",
       "      <th>R2_score</th>\n",
       "    </tr>\n",
       "  </thead>\n",
       "  <tbody>\n",
       "  </tbody>\n",
       "</table>\n",
       "</div>"
      ],
      "text/plain": [
       "Empty DataFrame\n",
       "Columns: [Model Name, Mean_Absolute_Error_MAE, Adj_R_Square, Root_Mean_Squared_Error_RMSE, Mean_Absolute_Percentage_Error_MAPE, Mean_Squared_Error_MSE, Root_Mean_Squared_Log_Error_RMSLE, R2_score]\n",
       "Index: []"
      ]
     },
     "execution_count": 40,
     "metadata": {},
     "output_type": "execute_result"
    }
   ],
   "source": [
    "Results = pd.read_csv(r\"C:\\Users\\CHAITANYA\\OneDrive\\Desktop\\work\\Thoery\\Black-Friday-Sales-Prediction-master\\Results.csv\", header=0)\n",
    "Results.head()"
   ]
  },
  {
   "cell_type": "code",
   "execution_count": 41,
   "id": "80029bbb",
   "metadata": {},
   "outputs": [
    {
     "data": {
      "text/plain": [
       "Gender                        0\n",
       "Age                           0\n",
       "Occupation                    0\n",
       "City_Category                 0\n",
       "Stay_In_Current_City_Years    0\n",
       "Marital_Status                0\n",
       "Product_Category_1            0\n",
       "Product_Category_2            0\n",
       "Product_Category_3            0\n",
       "Purchase                      0\n",
       "dtype: int64"
      ]
     },
     "execution_count": 41,
     "metadata": {},
     "output_type": "execute_result"
    }
   ],
   "source": [
    "train_dup.isnull().sum()"
   ]
  },
  {
   "cell_type": "code",
   "execution_count": 42,
   "id": "04e0bb8e",
   "metadata": {},
   "outputs": [
    {
     "name": "stdout",
     "output_type": "stream",
     "text": [
      "Model Name:  LinearRegression()\n",
      "Mean Absolute Error (MAE): 3596.24\n",
      "Mean Squared Error (MSE): 21627416.306\n",
      "Root Mean Squared Error (RMSE): 4650.529\n",
      "R2_score: 0.120336\n",
      "Root Mean Squared Log Error (RMSLE): 8.445\n",
      "Mean Absolute Percentage Error (MAPE): 68.65 %\n",
      "Adj R Square:  0.119808\n",
      "------------------------------------------------------------------------------------------------------------\n",
      "Model Name:  DecisionTreeRegressor()\n",
      "Mean Absolute Error (MAE): 2767.148\n",
      "Mean Squared Error (MSE): 15407273.525\n",
      "Root Mean Squared Error (RMSE): 3925.21\n",
      "R2_score: 0.373331\n",
      "Root Mean Squared Log Error (RMSLE): 8.275\n",
      "Mean Absolute Percentage Error (MAPE): 39.71 %\n",
      "Adj R Square:  0.372955\n",
      "------------------------------------------------------------------------------------------------------------\n",
      "Model Name:  RandomForestRegressor()\n",
      "Mean Absolute Error (MAE): 2326.102\n",
      "Mean Squared Error (MSE): 9961799.752\n",
      "Root Mean Squared Error (RMSE): 3156.232\n",
      "R2_score: 0.594818\n",
      "Root Mean Squared Log Error (RMSLE): 8.057\n",
      "Mean Absolute Percentage Error (MAPE): 34.96 %\n",
      "Adj R Square:  0.594575\n",
      "------------------------------------------------------------------------------------------------------------\n",
      "Model Name:  SVR()\n",
      "Mean Absolute Error (MAE): 3792.66\n",
      "Mean Squared Error (MSE): 24932990.03\n",
      "Root Mean Squared Error (RMSE): 4993.295\n",
      "R2_score: -0.014113\n",
      "Root Mean Squared Log Error (RMSLE): 8.516\n",
      "Mean Absolute Percentage Error (MAPE): 67.47 %\n",
      "Adj R Square:  -0.014722\n",
      "------------------------------------------------------------------------------------------------------------\n",
      "Model Name:  XGBRegressor(base_score=0.5, booster='gbtree', callbacks=None,\n",
      "             colsample_bylevel=1, colsample_bynode=1, colsample_bytree=1,\n",
      "             early_stopping_rounds=None, enable_categorical=False,\n",
      "             eval_metric=None, gamma=0, gpu_id=-1, grow_policy='depthwise',\n",
      "             importance_type=None, interaction_constraints='',\n",
      "             learning_rate=0.300000012, max_bin=256, max_cat_to_onehot=4,\n",
      "             max_delta_step=0, max_depth=6, max_leaves=0, min_child_weight=1,\n",
      "             missing=nan, monotone_constraints='()', n_estimators=100, n_jobs=0,\n",
      "             num_parallel_tree=1, predictor='auto', random_state=0, reg_alpha=0,\n",
      "             reg_lambda=1, ...)\n",
      "Mean Absolute Error (MAE): 2215.497\n",
      "Mean Squared Error (MSE): 8778190.617\n",
      "Root Mean Squared Error (RMSE): 2962.801\n",
      "R2_score: 0.64296\n",
      "Root Mean Squared Log Error (RMSLE): 7.994\n",
      "Mean Absolute Percentage Error (MAPE): 34.53 %\n",
      "Adj R Square:  0.642746\n",
      "------------------------------------------------------------------------------------------------------------\n",
      "Model Name:  KNeighborsRegressor()\n",
      "Mean Absolute Error (MAE): 3134.156\n",
      "Mean Squared Error (MSE): 18190266.658\n",
      "Root Mean Squared Error (RMSE): 4265.005\n",
      "R2_score: 0.260137\n",
      "Root Mean Squared Log Error (RMSLE): 8.358\n",
      "Mean Absolute Percentage Error (MAPE): 57.72 %\n",
      "Adj R Square:  0.259693\n",
      "------------------------------------------------------------------------------------------------------------\n",
      "Model Name:  ExtraTreesRegressor()\n",
      "Mean Absolute Error (MAE): 2438.974\n",
      "Mean Squared Error (MSE): 11279008.163\n",
      "Root Mean Squared Error (RMSE): 3358.423\n",
      "R2_score: 0.541243\n",
      "Root Mean Squared Log Error (RMSLE): 8.119\n",
      "Mean Absolute Percentage Error (MAPE): 36.13 %\n",
      "Adj R Square:  0.540968\n",
      "------------------------------------------------------------------------------------------------------------\n",
      "Model Name:  GradientBoostingRegressor()\n",
      "Mean Absolute Error (MAE): 2257.902\n",
      "Mean Squared Error (MSE): 8857147.547\n",
      "Root Mean Squared Error (RMSE): 2976.096\n",
      "R2_score: 0.639748\n",
      "Root Mean Squared Log Error (RMSLE): 7.998\n",
      "Mean Absolute Percentage Error (MAPE): 36.05 %\n",
      "Adj R Square:  0.639532\n",
      "------------------------------------------------------------------------------------------------------------\n"
     ]
    }
   ],
   "source": [
    "# Build the Regression / Regressor models\n",
    "\n",
    "from sklearn.linear_model import LinearRegression\n",
    "from sklearn.tree import DecisionTreeRegressor\n",
    "from sklearn.ensemble import RandomForestRegressor\n",
    "from sklearn.svm import SVR\n",
    "import xgboost as xgb\n",
    "from sklearn.neighbors import KNeighborsRegressor\n",
    "from sklearn.ensemble import ExtraTreesRegressor\n",
    "from sklearn.ensemble import GradientBoostingRegressor\n",
    "\n",
    "# Create objects of Regression / Regressor models with default hyper-parameters\n",
    "\n",
    "modelmlg = LinearRegression()\n",
    "modeldcr = DecisionTreeRegressor()\n",
    "modelrfr = RandomForestRegressor()\n",
    "modelSVR = SVR()\n",
    "modelXGR = xgb.XGBRegressor()\n",
    "modelKNN = KNeighborsRegressor(n_neighbors=5)\n",
    "modelETR = ExtraTreesRegressor()\n",
    "modelGBR = GradientBoostingRegressor()\n",
    "\n",
    "# Evalution matrix for all the algorithms\n",
    "\n",
    "MM = [modelmlg, modeldcr, modelrfr, modelSVR, modelXGR, modelKNN, modelETR, modelGBR]\n",
    "\n",
    "for models in MM:\n",
    "    \n",
    "    # Fit the model with train data\n",
    "    \n",
    "    models.fit(x_train, y_train)\n",
    "    \n",
    "    # Predict the model with test data\n",
    "\n",
    "    y_pred = models.predict(x_test)\n",
    "    \n",
    "    # Print the model name\n",
    "    \n",
    "    print('Model Name: ', models)\n",
    "    \n",
    "    # Evaluation metrics for Regression analysis\n",
    "\n",
    "    from sklearn import metrics\n",
    "\n",
    "    print('Mean Absolute Error (MAE):', round(metrics.mean_absolute_error(y_test, y_pred),3))  \n",
    "    print('Mean Squared Error (MSE):', round(metrics.mean_squared_error(y_test, y_pred),3))  \n",
    "    print('Root Mean Squared Error (RMSE):', round(np.sqrt(metrics.mean_squared_error(y_test, y_pred)),3))\n",
    "    print('R2_score:', round(metrics.r2_score(y_test, y_pred),6))\n",
    "    print('Root Mean Squared Log Error (RMSLE):', round(np.log(np.sqrt(metrics.mean_squared_error(y_test, y_pred))),3))\n",
    "    \n",
    "    # Define the function to calculate the MAPE - Mean Absolute Percentage Error\n",
    "\n",
    "    def MAPE (y_test, y_pred):\n",
    "        y_test, y_pred = np.array(y_test), np.array(y_pred)\n",
    "        return np.mean(np.abs((y_test - y_pred) / y_test)) * 100\n",
    "    \n",
    "    # Evaluation of MAPE \n",
    "\n",
    "    result = MAPE(y_test, y_pred)\n",
    "    print('Mean Absolute Percentage Error (MAPE):', round(result, 2), '%')\n",
    "    \n",
    "    # Calculate Adjusted R squared values \n",
    "\n",
    "    r_squared = round(metrics.r2_score(y_test, y_pred),6)\n",
    "    adjusted_r_squared = round(1 - (1-r_squared)*(len(y_test)-1)/(len(y_test)-x_test.shape[1]-1),6)\n",
    "    print('Adj R Square: ', adjusted_r_squared)\n",
    "    print('------------------------------------------------------------------------------------------------------------')\n",
    "    #-------------------------------------------------------------------------------------------\n",
    "    new_row = {'Model Name' : models,\n",
    "               'Mean_Absolute_Error_MAE' : metrics.mean_absolute_error(y_test, y_pred),\n",
    "               'Adj_R_Square' : adjusted_r_squared,\n",
    "               'Root_Mean_Squared_Error_RMSE' : np.sqrt(metrics.mean_squared_error(y_test, y_pred)),\n",
    "               'Mean_Absolute_Percentage_Error_MAPE' : result,\n",
    "               'Mean_Squared_Error_MSE' : metrics.mean_squared_error(y_test, y_pred),\n",
    "               'Root_Mean_Squared_Log_Error_RMSLE': np.log(np.sqrt(metrics.mean_squared_error(y_test, y_pred))),\n",
    "               'R2_score' : metrics.r2_score(y_test, y_pred)}\n",
    "    Results = Results.append(new_row, ignore_index=True)\n",
    "    #-------------------------------------------------------------------------------------------"
   ]
  },
  {
   "cell_type": "code",
   "execution_count": 46,
   "id": "d7f3ef78",
   "metadata": {},
   "outputs": [
    {
     "data": {
      "text/html": [
       "<div>\n",
       "<style scoped>\n",
       "    .dataframe tbody tr th:only-of-type {\n",
       "        vertical-align: middle;\n",
       "    }\n",
       "\n",
       "    .dataframe tbody tr th {\n",
       "        vertical-align: top;\n",
       "    }\n",
       "\n",
       "    .dataframe thead th {\n",
       "        text-align: right;\n",
       "    }\n",
       "</style>\n",
       "<table border=\"1\" class=\"dataframe\">\n",
       "  <thead>\n",
       "    <tr style=\"text-align: right;\">\n",
       "      <th></th>\n",
       "      <th>Model Name</th>\n",
       "      <th>Mean_Absolute_Error_MAE</th>\n",
       "      <th>Adj_R_Square</th>\n",
       "      <th>Root_Mean_Squared_Error_RMSE</th>\n",
       "      <th>Mean_Absolute_Percentage_Error_MAPE</th>\n",
       "      <th>Mean_Squared_Error_MSE</th>\n",
       "      <th>Root_Mean_Squared_Log_Error_RMSLE</th>\n",
       "      <th>R2_score</th>\n",
       "    </tr>\n",
       "  </thead>\n",
       "  <tbody>\n",
       "    <tr>\n",
       "      <th>0</th>\n",
       "      <td>LinearRegression()</td>\n",
       "      <td>3596.239665</td>\n",
       "      <td>0.119808</td>\n",
       "      <td>4650.528605</td>\n",
       "      <td>68.646215</td>\n",
       "      <td>21627416.305837</td>\n",
       "      <td>8.444736</td>\n",
       "      <td>0.120336</td>\n",
       "    </tr>\n",
       "    <tr>\n",
       "      <th>1</th>\n",
       "      <td>DecisionTreeRegressor()</td>\n",
       "      <td>2767.148383</td>\n",
       "      <td>0.372955</td>\n",
       "      <td>3925.209998</td>\n",
       "      <td>39.70573</td>\n",
       "      <td>15407273.52485</td>\n",
       "      <td>8.275175</td>\n",
       "      <td>0.373331</td>\n",
       "    </tr>\n",
       "    <tr>\n",
       "      <th>2</th>\n",
       "      <td>(DecisionTreeRegressor(max_features=1.0, rando...</td>\n",
       "      <td>2326.102366</td>\n",
       "      <td>0.594575</td>\n",
       "      <td>3156.231891</td>\n",
       "      <td>34.958592</td>\n",
       "      <td>9961799.752087</td>\n",
       "      <td>8.057134</td>\n",
       "      <td>0.594818</td>\n",
       "    </tr>\n",
       "    <tr>\n",
       "      <th>3</th>\n",
       "      <td>SVR()</td>\n",
       "      <td>3792.659928</td>\n",
       "      <td>-0.014722</td>\n",
       "      <td>4993.294507</td>\n",
       "      <td>67.469226</td>\n",
       "      <td>24932990.029791</td>\n",
       "      <td>8.515851</td>\n",
       "      <td>-0.014113</td>\n",
       "    </tr>\n",
       "    <tr>\n",
       "      <th>4</th>\n",
       "      <td>XGBRegressor(base_score=0.5, booster='gbtree',...</td>\n",
       "      <td>2215.496592</td>\n",
       "      <td>0.642746</td>\n",
       "      <td>2962.801144</td>\n",
       "      <td>34.52999</td>\n",
       "      <td>8778190.617208</td>\n",
       "      <td>7.99389</td>\n",
       "      <td>0.64296</td>\n",
       "    </tr>\n",
       "    <tr>\n",
       "      <th>5</th>\n",
       "      <td>KNeighborsRegressor()</td>\n",
       "      <td>3134.156453</td>\n",
       "      <td>0.259693</td>\n",
       "      <td>4265.004884</td>\n",
       "      <td>57.717826</td>\n",
       "      <td>18190266.658357</td>\n",
       "      <td>8.358199</td>\n",
       "      <td>0.260137</td>\n",
       "    </tr>\n",
       "    <tr>\n",
       "      <th>6</th>\n",
       "      <td>(ExtraTreeRegressor(random_state=1336378213), ...</td>\n",
       "      <td>2438.97422</td>\n",
       "      <td>0.540968</td>\n",
       "      <td>3358.423464</td>\n",
       "      <td>36.126774</td>\n",
       "      <td>11279008.16313</td>\n",
       "      <td>8.119227</td>\n",
       "      <td>0.541243</td>\n",
       "    </tr>\n",
       "    <tr>\n",
       "      <th>7</th>\n",
       "      <td>([DecisionTreeRegressor(criterion='friedman_ms...</td>\n",
       "      <td>2257.902371</td>\n",
       "      <td>0.639532</td>\n",
       "      <td>2976.096025</td>\n",
       "      <td>36.048128</td>\n",
       "      <td>8857147.547339</td>\n",
       "      <td>7.998368</td>\n",
       "      <td>0.639748</td>\n",
       "    </tr>\n",
       "  </tbody>\n",
       "</table>\n",
       "</div>"
      ],
      "text/plain": [
       "                                          Model Name Mean_Absolute_Error_MAE  \\\n",
       "0                                 LinearRegression()             3596.239665   \n",
       "1                            DecisionTreeRegressor()             2767.148383   \n",
       "2  (DecisionTreeRegressor(max_features=1.0, rando...             2326.102366   \n",
       "3                                              SVR()             3792.659928   \n",
       "4  XGBRegressor(base_score=0.5, booster='gbtree',...             2215.496592   \n",
       "5                              KNeighborsRegressor()             3134.156453   \n",
       "6  (ExtraTreeRegressor(random_state=1336378213), ...              2438.97422   \n",
       "7  ([DecisionTreeRegressor(criterion='friedman_ms...             2257.902371   \n",
       "\n",
       "  Adj_R_Square Root_Mean_Squared_Error_RMSE  \\\n",
       "0     0.119808                  4650.528605   \n",
       "1     0.372955                  3925.209998   \n",
       "2     0.594575                  3156.231891   \n",
       "3    -0.014722                  4993.294507   \n",
       "4     0.642746                  2962.801144   \n",
       "5     0.259693                  4265.004884   \n",
       "6     0.540968                  3358.423464   \n",
       "7     0.639532                  2976.096025   \n",
       "\n",
       "  Mean_Absolute_Percentage_Error_MAPE Mean_Squared_Error_MSE  \\\n",
       "0                           68.646215        21627416.305837   \n",
       "1                            39.70573         15407273.52485   \n",
       "2                           34.958592         9961799.752087   \n",
       "3                           67.469226        24932990.029791   \n",
       "4                            34.52999         8778190.617208   \n",
       "5                           57.717826        18190266.658357   \n",
       "6                           36.126774         11279008.16313   \n",
       "7                           36.048128         8857147.547339   \n",
       "\n",
       "  Root_Mean_Squared_Log_Error_RMSLE  R2_score  \n",
       "0                          8.444736  0.120336  \n",
       "1                          8.275175  0.373331  \n",
       "2                          8.057134  0.594818  \n",
       "3                          8.515851 -0.014113  \n",
       "4                           7.99389   0.64296  \n",
       "5                          8.358199  0.260137  \n",
       "6                          8.119227  0.541243  \n",
       "7                          7.998368  0.639748  "
      ]
     },
     "execution_count": 46,
     "metadata": {},
     "output_type": "execute_result"
    }
   ],
   "source": [
    "Results"
   ]
  },
  {
   "cell_type": "markdown",
   "id": "a53ed5d7",
   "metadata": {},
   "source": [
    "# hyper tuning"
   ]
  },
  {
   "cell_type": "code",
   "execution_count": 131,
   "id": "4ab445ef",
   "metadata": {},
   "outputs": [
    {
     "name": "stdout",
     "output_type": "stream",
     "text": [
      "{'n_estimators': [10, 50, 100], 'max_features': ['auto', 'sqrt', 'log2'], 'max_depth': [10, 120, 230, 340, 450, 560, 670, 780, 890, 1000], 'min_samples_split': [2, 5, 10, 14], 'min_samples_leaf': [1, 2, 4, 6, 8], 'criterion': ['squared_error', 'absolute_error', 'friedman_mse']}\n"
     ]
    }
   ],
   "source": [
    "# Hyperparametr tuning with RandomizedSearchCV\n",
    "\n",
    "from sklearn.model_selection import RandomizedSearchCV\n",
    "\n",
    "# splitter in Decision Tree\n",
    "\n",
    "n_estimators=[10,50,100]\n",
    "\n",
    "# Number of features to consider at every split\n",
    "\n",
    "max_features = ['auto', 'sqrt','log2']\n",
    "\n",
    "# Maximum number of levels in tree\n",
    "\n",
    "max_depth = [int(x) for x in np.linspace(10, 1000,10)]\n",
    "\n",
    "# Minimum number of samples required to split a node\n",
    "\n",
    "min_samples_split = [2, 5, 10,14]\n",
    "\n",
    "# Minimum number of samples required at each leaf node\n",
    "\n",
    "min_samples_leaf = [1, 2, 4,6,8]\n",
    "\n",
    "# Create the random grid\n",
    "\n",
    "Random_Grid = {'n_estimators': n_estimators,\n",
    "               'max_features': max_features,\n",
    "               'max_depth': max_depth,\n",
    "               'min_samples_split': min_samples_split,\n",
    "               'min_samples_leaf': min_samples_leaf,\n",
    "               'criterion':['squared_error','absolute_error','friedman_mse']}\n",
    "\n",
    "print(Random_Grid)"
   ]
  },
  {
   "cell_type": "code",
   "execution_count": 132,
   "id": "38e3b62b",
   "metadata": {},
   "outputs": [],
   "source": [
    "# prepare the cross-validation procedure\n",
    "\n",
    "from sklearn.model_selection import RepeatedKFold\n",
    "\n",
    "RKCV = RepeatedKFold(n_splits=10, n_repeats=3, random_state=1)"
   ]
  },
  {
   "cell_type": "code",
   "execution_count": 134,
   "id": "fe79cc08",
   "metadata": {},
   "outputs": [
    {
     "name": "stdout",
     "output_type": "stream",
     "text": [
      "Fitting 5 folds for each of 100 candidates, totalling 500 fits\n",
      "[21:59:15] WARNING: C:/Users/Administrator/workspace/xgboost-win64_release_1.6.0/src/learner.cc:627: \n",
      "Parameters: { \"criterion\", \"max_features\", \"min_samples_leaf\", \"min_samples_split\" } might not be used.\n",
      "\n",
      "  This could be a false alarm, with some parameters getting used by language bindings but\n",
      "  then being mistakenly passed down to XGBoost core, or some parameter actually being used\n",
      "  but getting flagged wrongly here. Please open an issue if you find any such cases.\n",
      "\n",
      "\n"
     ]
    },
    {
     "data": {
      "text/html": [
       "<style>#sk-container-id-1 {color: black;background-color: white;}#sk-container-id-1 pre{padding: 0;}#sk-container-id-1 div.sk-toggleable {background-color: white;}#sk-container-id-1 label.sk-toggleable__label {cursor: pointer;display: block;width: 100%;margin-bottom: 0;padding: 0.3em;box-sizing: border-box;text-align: center;}#sk-container-id-1 label.sk-toggleable__label-arrow:before {content: \"▸\";float: left;margin-right: 0.25em;color: #696969;}#sk-container-id-1 label.sk-toggleable__label-arrow:hover:before {color: black;}#sk-container-id-1 div.sk-estimator:hover label.sk-toggleable__label-arrow:before {color: black;}#sk-container-id-1 div.sk-toggleable__content {max-height: 0;max-width: 0;overflow: hidden;text-align: left;background-color: #f0f8ff;}#sk-container-id-1 div.sk-toggleable__content pre {margin: 0.2em;color: black;border-radius: 0.25em;background-color: #f0f8ff;}#sk-container-id-1 input.sk-toggleable__control:checked~div.sk-toggleable__content {max-height: 200px;max-width: 100%;overflow: auto;}#sk-container-id-1 input.sk-toggleable__control:checked~label.sk-toggleable__label-arrow:before {content: \"▾\";}#sk-container-id-1 div.sk-estimator input.sk-toggleable__control:checked~label.sk-toggleable__label {background-color: #d4ebff;}#sk-container-id-1 div.sk-label input.sk-toggleable__control:checked~label.sk-toggleable__label {background-color: #d4ebff;}#sk-container-id-1 input.sk-hidden--visually {border: 0;clip: rect(1px 1px 1px 1px);clip: rect(1px, 1px, 1px, 1px);height: 1px;margin: -1px;overflow: hidden;padding: 0;position: absolute;width: 1px;}#sk-container-id-1 div.sk-estimator {font-family: monospace;background-color: #f0f8ff;border: 1px dotted black;border-radius: 0.25em;box-sizing: border-box;margin-bottom: 0.5em;}#sk-container-id-1 div.sk-estimator:hover {background-color: #d4ebff;}#sk-container-id-1 div.sk-parallel-item::after {content: \"\";width: 100%;border-bottom: 1px solid gray;flex-grow: 1;}#sk-container-id-1 div.sk-label:hover label.sk-toggleable__label {background-color: #d4ebff;}#sk-container-id-1 div.sk-serial::before {content: \"\";position: absolute;border-left: 1px solid gray;box-sizing: border-box;top: 0;bottom: 0;left: 50%;z-index: 0;}#sk-container-id-1 div.sk-serial {display: flex;flex-direction: column;align-items: center;background-color: white;padding-right: 0.2em;padding-left: 0.2em;position: relative;}#sk-container-id-1 div.sk-item {position: relative;z-index: 1;}#sk-container-id-1 div.sk-parallel {display: flex;align-items: stretch;justify-content: center;background-color: white;position: relative;}#sk-container-id-1 div.sk-item::before, #sk-container-id-1 div.sk-parallel-item::before {content: \"\";position: absolute;border-left: 1px solid gray;box-sizing: border-box;top: 0;bottom: 0;left: 50%;z-index: -1;}#sk-container-id-1 div.sk-parallel-item {display: flex;flex-direction: column;z-index: 1;position: relative;background-color: white;}#sk-container-id-1 div.sk-parallel-item:first-child::after {align-self: flex-end;width: 50%;}#sk-container-id-1 div.sk-parallel-item:last-child::after {align-self: flex-start;width: 50%;}#sk-container-id-1 div.sk-parallel-item:only-child::after {width: 0;}#sk-container-id-1 div.sk-dashed-wrapped {border: 1px dashed gray;margin: 0 0.4em 0.5em 0.4em;box-sizing: border-box;padding-bottom: 0.4em;background-color: white;}#sk-container-id-1 div.sk-label label {font-family: monospace;font-weight: bold;display: inline-block;line-height: 1.2em;}#sk-container-id-1 div.sk-label-container {text-align: center;}#sk-container-id-1 div.sk-container {/* jupyter's `normalize.less` sets `[hidden] { display: none; }` but bootstrap.min.css set `[hidden] { display: none !important; }` so we also need the `!important` here to be able to override the default hidden behavior on the sphinx rendered scikit-learn.org. See: https://github.com/scikit-learn/scikit-learn/issues/21755 */display: inline-block !important;position: relative;}#sk-container-id-1 div.sk-text-repr-fallback {display: none;}</style><div id=\"sk-container-id-1\" class=\"sk-top-container\"><div class=\"sk-text-repr-fallback\"><pre>RandomizedSearchCV(cv=5,\n",
       "                   estimator=XGBRegressor(base_score=None, booster=None,\n",
       "                                          callbacks=None,\n",
       "                                          colsample_bylevel=None,\n",
       "                                          colsample_bynode=None,\n",
       "                                          colsample_bytree=None,\n",
       "                                          early_stopping_rounds=None,\n",
       "                                          enable_categorical=False,\n",
       "                                          eval_metric=None, gamma=None,\n",
       "                                          gpu_id=None, grow_policy=None,\n",
       "                                          importance_type=None,\n",
       "                                          interaction_constraints=None,\n",
       "                                          learning_rate=None, max_bin=None,\n",
       "                                          m...\n",
       "                                          reg_alpha=None, reg_lambda=None, ...),\n",
       "                   n_iter=100, n_jobs=-1,\n",
       "                   param_distributions={&#x27;criterion&#x27;: [&#x27;squared_error&#x27;,\n",
       "                                                      &#x27;absolute_error&#x27;,\n",
       "                                                      &#x27;friedman_mse&#x27;],\n",
       "                                        &#x27;max_depth&#x27;: [10, 120, 230, 340, 450,\n",
       "                                                      560, 670, 780, 890,\n",
       "                                                      1000],\n",
       "                                        &#x27;max_features&#x27;: [&#x27;auto&#x27;, &#x27;sqrt&#x27;,\n",
       "                                                         &#x27;log2&#x27;],\n",
       "                                        &#x27;min_samples_leaf&#x27;: [1, 2, 4, 6, 8],\n",
       "                                        &#x27;min_samples_split&#x27;: [2, 5, 10, 14],\n",
       "                                        &#x27;n_estimators&#x27;: [10, 50, 100]},\n",
       "                   random_state=100, verbose=2)</pre><b>In a Jupyter environment, please rerun this cell to show the HTML representation or trust the notebook. <br />On GitHub, the HTML representation is unable to render, please try loading this page with nbviewer.org.</b></div><div class=\"sk-container\" hidden><div class=\"sk-item sk-dashed-wrapped\"><div class=\"sk-label-container\"><div class=\"sk-label sk-toggleable\"><input class=\"sk-toggleable__control sk-hidden--visually\" id=\"sk-estimator-id-1\" type=\"checkbox\" ><label for=\"sk-estimator-id-1\" class=\"sk-toggleable__label sk-toggleable__label-arrow\">RandomizedSearchCV</label><div class=\"sk-toggleable__content\"><pre>RandomizedSearchCV(cv=5,\n",
       "                   estimator=XGBRegressor(base_score=None, booster=None,\n",
       "                                          callbacks=None,\n",
       "                                          colsample_bylevel=None,\n",
       "                                          colsample_bynode=None,\n",
       "                                          colsample_bytree=None,\n",
       "                                          early_stopping_rounds=None,\n",
       "                                          enable_categorical=False,\n",
       "                                          eval_metric=None, gamma=None,\n",
       "                                          gpu_id=None, grow_policy=None,\n",
       "                                          importance_type=None,\n",
       "                                          interaction_constraints=None,\n",
       "                                          learning_rate=None, max_bin=None,\n",
       "                                          m...\n",
       "                                          reg_alpha=None, reg_lambda=None, ...),\n",
       "                   n_iter=100, n_jobs=-1,\n",
       "                   param_distributions={&#x27;criterion&#x27;: [&#x27;squared_error&#x27;,\n",
       "                                                      &#x27;absolute_error&#x27;,\n",
       "                                                      &#x27;friedman_mse&#x27;],\n",
       "                                        &#x27;max_depth&#x27;: [10, 120, 230, 340, 450,\n",
       "                                                      560, 670, 780, 890,\n",
       "                                                      1000],\n",
       "                                        &#x27;max_features&#x27;: [&#x27;auto&#x27;, &#x27;sqrt&#x27;,\n",
       "                                                         &#x27;log2&#x27;],\n",
       "                                        &#x27;min_samples_leaf&#x27;: [1, 2, 4, 6, 8],\n",
       "                                        &#x27;min_samples_split&#x27;: [2, 5, 10, 14],\n",
       "                                        &#x27;n_estimators&#x27;: [10, 50, 100]},\n",
       "                   random_state=100, verbose=2)</pre></div></div></div><div class=\"sk-parallel\"><div class=\"sk-parallel-item\"><div class=\"sk-item\"><div class=\"sk-label-container\"><div class=\"sk-label sk-toggleable\"><input class=\"sk-toggleable__control sk-hidden--visually\" id=\"sk-estimator-id-2\" type=\"checkbox\" ><label for=\"sk-estimator-id-2\" class=\"sk-toggleable__label sk-toggleable__label-arrow\">estimator: XGBRegressor</label><div class=\"sk-toggleable__content\"><pre>XGBRegressor(base_score=None, booster=None, callbacks=None,\n",
       "             colsample_bylevel=None, colsample_bynode=None,\n",
       "             colsample_bytree=None, early_stopping_rounds=None,\n",
       "             enable_categorical=False, eval_metric=None, gamma=None,\n",
       "             gpu_id=None, grow_policy=None, importance_type=None,\n",
       "             interaction_constraints=None, learning_rate=None, max_bin=None,\n",
       "             max_cat_to_onehot=None, max_delta_step=None, max_depth=None,\n",
       "             max_leaves=None, min_child_weight=None, missing=nan,\n",
       "             monotone_constraints=None, n_estimators=100, n_jobs=None,\n",
       "             num_parallel_tree=None, predictor=None, random_state=None,\n",
       "             reg_alpha=None, reg_lambda=None, ...)</pre></div></div></div><div class=\"sk-serial\"><div class=\"sk-item\"><div class=\"sk-estimator sk-toggleable\"><input class=\"sk-toggleable__control sk-hidden--visually\" id=\"sk-estimator-id-3\" type=\"checkbox\" ><label for=\"sk-estimator-id-3\" class=\"sk-toggleable__label sk-toggleable__label-arrow\">XGBRegressor</label><div class=\"sk-toggleable__content\"><pre>XGBRegressor(base_score=None, booster=None, callbacks=None,\n",
       "             colsample_bylevel=None, colsample_bynode=None,\n",
       "             colsample_bytree=None, early_stopping_rounds=None,\n",
       "             enable_categorical=False, eval_metric=None, gamma=None,\n",
       "             gpu_id=None, grow_policy=None, importance_type=None,\n",
       "             interaction_constraints=None, learning_rate=None, max_bin=None,\n",
       "             max_cat_to_onehot=None, max_delta_step=None, max_depth=None,\n",
       "             max_leaves=None, min_child_weight=None, missing=nan,\n",
       "             monotone_constraints=None, n_estimators=100, n_jobs=None,\n",
       "             num_parallel_tree=None, predictor=None, random_state=None,\n",
       "             reg_alpha=None, reg_lambda=None, ...)</pre></div></div></div></div></div></div></div></div></div></div>"
      ],
      "text/plain": [
       "RandomizedSearchCV(cv=5,\n",
       "                   estimator=XGBRegressor(base_score=None, booster=None,\n",
       "                                          callbacks=None,\n",
       "                                          colsample_bylevel=None,\n",
       "                                          colsample_bynode=None,\n",
       "                                          colsample_bytree=None,\n",
       "                                          early_stopping_rounds=None,\n",
       "                                          enable_categorical=False,\n",
       "                                          eval_metric=None, gamma=None,\n",
       "                                          gpu_id=None, grow_policy=None,\n",
       "                                          importance_type=None,\n",
       "                                          interaction_constraints=None,\n",
       "                                          learning_rate=None, max_bin=None,\n",
       "                                          m...\n",
       "                                          reg_alpha=None, reg_lambda=None, ...),\n",
       "                   n_iter=100, n_jobs=-1,\n",
       "                   param_distributions={'criterion': ['squared_error',\n",
       "                                                      'absolute_error',\n",
       "                                                      'friedman_mse'],\n",
       "                                        'max_depth': [10, 120, 230, 340, 450,\n",
       "                                                      560, 670, 780, 890,\n",
       "                                                      1000],\n",
       "                                        'max_features': ['auto', 'sqrt',\n",
       "                                                         'log2'],\n",
       "                                        'min_samples_leaf': [1, 2, 4, 6, 8],\n",
       "                                        'min_samples_split': [2, 5, 10, 14],\n",
       "                                        'n_estimators': [10, 50, 100]},\n",
       "                   random_state=100, verbose=2)"
      ]
     },
     "execution_count": 134,
     "metadata": {},
     "output_type": "execute_result"
    }
   ],
   "source": [
    "import xgboost as xgb\n",
    "\n",
    "ModelXGBR = xgb.XGBRegressor()\n",
    "\n",
    "ModelXGBR_RandomCV=RandomizedSearchCV(estimator=ModelXGBR, param_distributions=Random_Grid, n_iter=100, cv=5,\n",
    "                                    verbose=2, random_state=100,n_jobs=-1)\n",
    "### fit the randomized model\n",
    "\n",
    "ModelXGBR_RandomCV.fit(x_train,y_train)"
   ]
  },
  {
   "cell_type": "code",
   "execution_count": 135,
   "id": "f05cf72c",
   "metadata": {},
   "outputs": [
    {
     "data": {
      "text/plain": [
       "0.6284857215024089"
      ]
     },
     "execution_count": 135,
     "metadata": {},
     "output_type": "execute_result"
    }
   ],
   "source": [
    "ModelXGBR_RandomCV.best_score_"
   ]
  },
  {
   "cell_type": "code",
   "execution_count": 136,
   "id": "4c3e2a54",
   "metadata": {},
   "outputs": [
    {
     "data": {
      "text/plain": [
       "{'n_estimators': 10,\n",
       " 'min_samples_split': 14,\n",
       " 'min_samples_leaf': 8,\n",
       " 'max_features': 'auto',\n",
       " 'max_depth': 10,\n",
       " 'criterion': 'friedman_mse'}"
      ]
     },
     "execution_count": 136,
     "metadata": {},
     "output_type": "execute_result"
    }
   ],
   "source": [
    "# best or the optimal values of the parameters for which the model performed the best\n",
    "\n",
    "ModelXGBR_RandomCV.best_params_"
   ]
  },
  {
   "cell_type": "code",
   "execution_count": 137,
   "id": "8c1aebbd",
   "metadata": {},
   "outputs": [
    {
     "name": "stdout",
     "output_type": "stream",
     "text": [
      "[22:14:21] WARNING: C:/Users/Administrator/workspace/xgboost-win64_release_1.6.0/src/learner.cc:627: \n",
      "Parameters: { \"criterion\", \"max_features\", \"min_samples_leaf\", \"min_samples_split\" } might not be used.\n",
      "\n",
      "  This could be a false alarm, with some parameters getting used by language bindings but\n",
      "  then being mistakenly passed down to XGBoost core, or some parameter actually being used\n",
      "  but getting flagged wrongly here. Please open an issue if you find any such cases.\n",
      "\n",
      "\n",
      "Mean Absolute Error (MAE): 2270.841\n",
      "Mean Squared Error (MSE): 8946592.089\n",
      "Root Mean Squared Error (RMSE): 2991.085\n",
      "R2_score: 0.63611\n",
      "Root Mean Squared Log Error (RMSLE): 8.003\n",
      "Mean Absolute Percentage Error (MAPE): 33.88 %\n",
      "Adj R Square:  0.635892\n",
      "------------------------------------------------------------------------------------------------------------\n"
     ]
    }
   ],
   "source": [
    "# To build the 'Logistic Regression' model with random sampling (RandomizedSearchCV)\n",
    "\n",
    "import xgboost as xgb\n",
    "# Create model object\n",
    "\n",
    "ModelXGBR= xgb.XGBRegressor(n_estimators=10,min_samples_split=14,min_samples_leaf=8,max_features='auto',max_depth=10,criterion='friedman_mse')\n",
    "\n",
    "# Fit the model\n",
    "\n",
    "ModelXGBR=ModelXGBR.fit(x_train, y_train)\n",
    "\n",
    "# Predict the model with test data set\n",
    "\n",
    "y_pred = ModelXGBR.predict(x_test)\n",
    "\n",
    "    \n",
    "# Evaluation metrics for Regression analysis\n",
    "\n",
    "from sklearn import metrics\n",
    "print('Mean Absolute Error (MAE):', round(metrics.mean_absolute_error(y_test, y_pred),3))  \n",
    "print('Mean Squared Error (MSE):', round(metrics.mean_squared_error(y_test, y_pred),3))  \n",
    "print('Root Mean Squared Error (RMSE):', round(np.sqrt(metrics.mean_squared_error(y_test, y_pred)),3))\n",
    "print('R2_score:', round(metrics.r2_score(y_test, y_pred),6))\n",
    "print('Root Mean Squared Log Error (RMSLE):', round(np.log(np.sqrt(metrics.mean_squared_error(y_test, y_pred))),3))\n",
    "    \n",
    "# Define the function to calculate the MAPE - Mean Absolute Percentage Error\n",
    "def MAPE (y_test, y_pred):\n",
    "        y_test, y_pred = np.array(y_test), np.array(y_pred)\n",
    "        return np.mean(np.abs((y_test - y_pred) / y_test)) * 100\n",
    "    \n",
    "# Evaluation of MAPE \n",
    "result = MAPE(y_test, y_pred)\n",
    "print('Mean Absolute Percentage Error (MAPE):', round(result, 2), '%')\n",
    "# Calculate Adjusted R squared values \n",
    "\n",
    "r_squared = round(metrics.r2_score(y_test, y_pred),6)\n",
    "adjusted_r_squared = round(1 - (1-r_squared)*(len(y_test)-1)/(len(y_test)-x_test.shape[1]-1),6)\n",
    "print('Adj R Square: ', adjusted_r_squared)\n",
    "print('------------------------------------------------------------------------------------------------------------')\n",
    "#-------------------------------------------------------------------------------------------\n",
    "new_row = {'Model Name' : ModelXGBR,\n",
    "           'Mean_Absolute_Error_MAE' : metrics.mean_absolute_error(y_test, y_pred),\n",
    "           'Adj_R_Square' : adjusted_r_squared,\n",
    "           'Root_Mean_Squared_Error_RMSE' : np.sqrt(metrics.mean_squared_error(y_test, y_pred)),\n",
    "           'Mean_Absolute_Percentage_Error_MAPE' : result,\n",
    "           'Mean_Squared_Error_MSE' : metrics.mean_squared_error(y_test, y_pred),\n",
    "           'Root_Mean_Squared_Log_Error_RMSLE': np.log(np.sqrt(metrics.mean_squared_error(y_test, y_pred))),\n",
    "           'R2_score' : metrics.r2_score(y_test, y_pred)}\n",
    "Results = Results.append(new_row, ignore_index=True)\n",
    "    #-------------------------------------------------------------------------------------------"
   ]
  },
  {
   "cell_type": "code",
   "execution_count": 138,
   "id": "ae2a0152",
   "metadata": {},
   "outputs": [
    {
     "data": {
      "text/html": [
       "<div>\n",
       "<style scoped>\n",
       "    .dataframe tbody tr th:only-of-type {\n",
       "        vertical-align: middle;\n",
       "    }\n",
       "\n",
       "    .dataframe tbody tr th {\n",
       "        vertical-align: top;\n",
       "    }\n",
       "\n",
       "    .dataframe thead th {\n",
       "        text-align: right;\n",
       "    }\n",
       "</style>\n",
       "<table border=\"1\" class=\"dataframe\">\n",
       "  <thead>\n",
       "    <tr style=\"text-align: right;\">\n",
       "      <th></th>\n",
       "      <th>Model Name</th>\n",
       "      <th>Mean_Absolute_Error_MAE</th>\n",
       "      <th>Adj_R_Square</th>\n",
       "      <th>Root_Mean_Squared_Error_RMSE</th>\n",
       "      <th>Mean_Absolute_Percentage_Error_MAPE</th>\n",
       "      <th>Mean_Squared_Error_MSE</th>\n",
       "      <th>Root_Mean_Squared_Log_Error_RMSLE</th>\n",
       "      <th>R2_score</th>\n",
       "    </tr>\n",
       "  </thead>\n",
       "  <tbody>\n",
       "    <tr>\n",
       "      <th>0</th>\n",
       "      <td>LinearRegression()</td>\n",
       "      <td>3596.239665</td>\n",
       "      <td>0.119808</td>\n",
       "      <td>4650.528605</td>\n",
       "      <td>68.646215</td>\n",
       "      <td>21627416.305837</td>\n",
       "      <td>8.444736</td>\n",
       "      <td>0.120336</td>\n",
       "    </tr>\n",
       "    <tr>\n",
       "      <th>1</th>\n",
       "      <td>DecisionTreeRegressor()</td>\n",
       "      <td>2761.06857</td>\n",
       "      <td>0.375363</td>\n",
       "      <td>3917.667298</td>\n",
       "      <td>39.630502</td>\n",
       "      <td>15348117.056065</td>\n",
       "      <td>8.273252</td>\n",
       "      <td>0.375738</td>\n",
       "    </tr>\n",
       "    <tr>\n",
       "      <th>2</th>\n",
       "      <td>(DecisionTreeRegressor(max_features=1.0, rando...</td>\n",
       "      <td>2329.616017</td>\n",
       "      <td>0.593861</td>\n",
       "      <td>3159.009315</td>\n",
       "      <td>34.996527</td>\n",
       "      <td>9979339.854887</td>\n",
       "      <td>8.058014</td>\n",
       "      <td>0.594105</td>\n",
       "    </tr>\n",
       "    <tr>\n",
       "      <th>3</th>\n",
       "      <td>SVR()</td>\n",
       "      <td>3792.659928</td>\n",
       "      <td>-0.014722</td>\n",
       "      <td>4993.294507</td>\n",
       "      <td>67.469226</td>\n",
       "      <td>24932990.029791</td>\n",
       "      <td>8.515851</td>\n",
       "      <td>-0.014113</td>\n",
       "    </tr>\n",
       "    <tr>\n",
       "      <th>4</th>\n",
       "      <td>XGBRegressor(base_score=0.5, booster='gbtree',...</td>\n",
       "      <td>2215.496592</td>\n",
       "      <td>0.642746</td>\n",
       "      <td>2962.801144</td>\n",
       "      <td>34.52999</td>\n",
       "      <td>8778190.617208</td>\n",
       "      <td>7.99389</td>\n",
       "      <td>0.64296</td>\n",
       "    </tr>\n",
       "    <tr>\n",
       "      <th>5</th>\n",
       "      <td>KNeighborsRegressor()</td>\n",
       "      <td>3134.156453</td>\n",
       "      <td>0.259693</td>\n",
       "      <td>4265.004884</td>\n",
       "      <td>57.717826</td>\n",
       "      <td>18190266.658357</td>\n",
       "      <td>8.358199</td>\n",
       "      <td>0.260137</td>\n",
       "    </tr>\n",
       "    <tr>\n",
       "      <th>6</th>\n",
       "      <td>(ExtraTreeRegressor(random_state=1218941830), ...</td>\n",
       "      <td>2440.221372</td>\n",
       "      <td>0.54149</td>\n",
       "      <td>3356.509699</td>\n",
       "      <td>36.092782</td>\n",
       "      <td>11266157.360625</td>\n",
       "      <td>8.118657</td>\n",
       "      <td>0.541765</td>\n",
       "    </tr>\n",
       "    <tr>\n",
       "      <th>7</th>\n",
       "      <td>([DecisionTreeRegressor(criterion='friedman_ms...</td>\n",
       "      <td>2257.865777</td>\n",
       "      <td>0.639534</td>\n",
       "      <td>2976.089453</td>\n",
       "      <td>36.047037</td>\n",
       "      <td>8857108.434997</td>\n",
       "      <td>7.998365</td>\n",
       "      <td>0.63975</td>\n",
       "    </tr>\n",
       "    <tr>\n",
       "      <th>8</th>\n",
       "      <td>XGBRegressor(base_score=0.5, booster='gbtree',...</td>\n",
       "      <td>2270.840622</td>\n",
       "      <td>0.635892</td>\n",
       "      <td>2991.085437</td>\n",
       "      <td>33.881512</td>\n",
       "      <td>8946592.088996</td>\n",
       "      <td>8.003392</td>\n",
       "      <td>0.63611</td>\n",
       "    </tr>\n",
       "  </tbody>\n",
       "</table>\n",
       "</div>"
      ],
      "text/plain": [
       "                                          Model Name Mean_Absolute_Error_MAE  \\\n",
       "0                                 LinearRegression()             3596.239665   \n",
       "1                            DecisionTreeRegressor()              2761.06857   \n",
       "2  (DecisionTreeRegressor(max_features=1.0, rando...             2329.616017   \n",
       "3                                              SVR()             3792.659928   \n",
       "4  XGBRegressor(base_score=0.5, booster='gbtree',...             2215.496592   \n",
       "5                              KNeighborsRegressor()             3134.156453   \n",
       "6  (ExtraTreeRegressor(random_state=1218941830), ...             2440.221372   \n",
       "7  ([DecisionTreeRegressor(criterion='friedman_ms...             2257.865777   \n",
       "8  XGBRegressor(base_score=0.5, booster='gbtree',...             2270.840622   \n",
       "\n",
       "  Adj_R_Square Root_Mean_Squared_Error_RMSE  \\\n",
       "0     0.119808                  4650.528605   \n",
       "1     0.375363                  3917.667298   \n",
       "2     0.593861                  3159.009315   \n",
       "3    -0.014722                  4993.294507   \n",
       "4     0.642746                  2962.801144   \n",
       "5     0.259693                  4265.004884   \n",
       "6      0.54149                  3356.509699   \n",
       "7     0.639534                  2976.089453   \n",
       "8     0.635892                  2991.085437   \n",
       "\n",
       "  Mean_Absolute_Percentage_Error_MAPE Mean_Squared_Error_MSE  \\\n",
       "0                           68.646215        21627416.305837   \n",
       "1                           39.630502        15348117.056065   \n",
       "2                           34.996527         9979339.854887   \n",
       "3                           67.469226        24932990.029791   \n",
       "4                            34.52999         8778190.617208   \n",
       "5                           57.717826        18190266.658357   \n",
       "6                           36.092782        11266157.360625   \n",
       "7                           36.047037         8857108.434997   \n",
       "8                           33.881512         8946592.088996   \n",
       "\n",
       "  Root_Mean_Squared_Log_Error_RMSLE  R2_score  \n",
       "0                          8.444736  0.120336  \n",
       "1                          8.273252  0.375738  \n",
       "2                          8.058014  0.594105  \n",
       "3                          8.515851 -0.014113  \n",
       "4                           7.99389   0.64296  \n",
       "5                          8.358199  0.260137  \n",
       "6                          8.118657  0.541765  \n",
       "7                          7.998365   0.63975  \n",
       "8                          8.003392   0.63611  "
      ]
     },
     "execution_count": 138,
     "metadata": {},
     "output_type": "execute_result"
    }
   ],
   "source": [
    "Results"
   ]
  },
  {
   "cell_type": "code",
   "execution_count": 44,
   "id": "ebfe40ae",
   "metadata": {},
   "outputs": [
    {
     "name": "stdout",
     "output_type": "stream",
     "text": [
      "<class 'pandas.core.frame.DataFrame'>\n",
      "Int64Index: 20000 entries, 0 to 19999\n",
      "Data columns (total 10 columns):\n",
      " #   Column                      Non-Null Count  Dtype  \n",
      "---  ------                      --------------  -----  \n",
      " 0   Gender                      20000 non-null  int32  \n",
      " 1   Age                         20000 non-null  int32  \n",
      " 2   Occupation                  20000 non-null  int64  \n",
      " 3   City_Category               20000 non-null  int32  \n",
      " 4   Stay_In_Current_City_Years  20000 non-null  int32  \n",
      " 5   Marital_Status              20000 non-null  int64  \n",
      " 6   Product_Category_1          20000 non-null  int64  \n",
      " 7   Product_Category_2          20000 non-null  float64\n",
      " 8   Product_Category_3          20000 non-null  float64\n",
      " 9   Purchase                    0 non-null      float64\n",
      "dtypes: float64(3), int32(4), int64(3)\n",
      "memory usage: 1.4 MB\n"
     ]
    }
   ],
   "source": [
    "test_dup.info()"
   ]
  },
  {
   "cell_type": "code",
   "execution_count": 49,
   "id": "9b9ab9a4",
   "metadata": {},
   "outputs": [],
   "source": [
    "IndepVar = []\n",
    "for col in test_dup.columns:\n",
    "    if col != 'Purchase':\n",
    "        IndepVar.append(col)\n",
    "\n",
    "TargetVar = 'Purchase'\n",
    "\n",
    "x= test_dup[IndepVar]\n",
    "y= test_dup[TargetVar]"
   ]
  },
  {
   "cell_type": "code",
   "execution_count": 50,
   "id": "630f3b7e",
   "metadata": {},
   "outputs": [],
   "source": [
    "y_pred=modelXGR.predict(x)"
   ]
  },
  {
   "cell_type": "code",
   "execution_count": 51,
   "id": "b0b0f793",
   "metadata": {},
   "outputs": [
    {
     "data": {
      "text/html": [
       "<div>\n",
       "<style scoped>\n",
       "    .dataframe tbody tr th:only-of-type {\n",
       "        vertical-align: middle;\n",
       "    }\n",
       "\n",
       "    .dataframe tbody tr th {\n",
       "        vertical-align: top;\n",
       "    }\n",
       "\n",
       "    .dataframe thead th {\n",
       "        text-align: right;\n",
       "    }\n",
       "</style>\n",
       "<table border=\"1\" class=\"dataframe\">\n",
       "  <thead>\n",
       "    <tr style=\"text-align: right;\">\n",
       "      <th></th>\n",
       "      <th>User_ID</th>\n",
       "      <th>Purchase</th>\n",
       "    </tr>\n",
       "  </thead>\n",
       "  <tbody>\n",
       "    <tr>\n",
       "      <th>0</th>\n",
       "      <td>1000004</td>\n",
       "      <td>2066.604980</td>\n",
       "    </tr>\n",
       "    <tr>\n",
       "      <th>1</th>\n",
       "      <td>1000009</td>\n",
       "      <td>1869.736572</td>\n",
       "    </tr>\n",
       "    <tr>\n",
       "      <th>2</th>\n",
       "      <td>1000010</td>\n",
       "      <td>-541.144287</td>\n",
       "    </tr>\n",
       "    <tr>\n",
       "      <th>3</th>\n",
       "      <td>1000010</td>\n",
       "      <td>-541.144287</td>\n",
       "    </tr>\n",
       "    <tr>\n",
       "      <th>4</th>\n",
       "      <td>1000011</td>\n",
       "      <td>151.139282</td>\n",
       "    </tr>\n",
       "    <tr>\n",
       "      <th>...</th>\n",
       "      <td>...</td>\n",
       "      <td>...</td>\n",
       "    </tr>\n",
       "    <tr>\n",
       "      <th>19995</th>\n",
       "      <td>1000934</td>\n",
       "      <td>695.281006</td>\n",
       "    </tr>\n",
       "    <tr>\n",
       "      <th>19996</th>\n",
       "      <td>1000934</td>\n",
       "      <td>695.281006</td>\n",
       "    </tr>\n",
       "    <tr>\n",
       "      <th>19997</th>\n",
       "      <td>1000937</td>\n",
       "      <td>1270.354004</td>\n",
       "    </tr>\n",
       "    <tr>\n",
       "      <th>19998</th>\n",
       "      <td>1000943</td>\n",
       "      <td>232.108887</td>\n",
       "    </tr>\n",
       "    <tr>\n",
       "      <th>19999</th>\n",
       "      <td>1000945</td>\n",
       "      <td>3659.839355</td>\n",
       "    </tr>\n",
       "  </tbody>\n",
       "</table>\n",
       "<p>20000 rows × 2 columns</p>\n",
       "</div>"
      ],
      "text/plain": [
       "       User_ID     Purchase\n",
       "0      1000004  2066.604980\n",
       "1      1000009  1869.736572\n",
       "2      1000010  -541.144287\n",
       "3      1000010  -541.144287\n",
       "4      1000011   151.139282\n",
       "...        ...          ...\n",
       "19995  1000934   695.281006\n",
       "19996  1000934   695.281006\n",
       "19997  1000937  1270.354004\n",
       "19998  1000943   232.108887\n",
       "19999  1000945  3659.839355\n",
       "\n",
       "[20000 rows x 2 columns]"
      ]
     },
     "execution_count": 51,
     "metadata": {},
     "output_type": "execute_result"
    }
   ],
   "source": [
    "submission=pd.DataFrame({\"User_ID\":test[\"User_ID\"],\"Purchase\":y_pred})\n",
    "submission"
   ]
  },
  {
   "cell_type": "code",
   "execution_count": 52,
   "id": "4e5542b9",
   "metadata": {},
   "outputs": [],
   "source": [
    "submission.to_csv(r\"C:\\Users\\CHAITANYA\\OneDrive\\Desktop\\work\\Thoery\\Black-Friday-Sales-Prediction-master\\black_friday_Submission.csv\", index = False)"
   ]
  },
  {
   "cell_type": "code",
   "execution_count": 53,
   "id": "cf3de267",
   "metadata": {},
   "outputs": [
    {
     "data": {
      "text/html": [
       "<div>\n",
       "<style scoped>\n",
       "    .dataframe tbody tr th:only-of-type {\n",
       "        vertical-align: middle;\n",
       "    }\n",
       "\n",
       "    .dataframe tbody tr th {\n",
       "        vertical-align: top;\n",
       "    }\n",
       "\n",
       "    .dataframe thead th {\n",
       "        text-align: right;\n",
       "    }\n",
       "</style>\n",
       "<table border=\"1\" class=\"dataframe\">\n",
       "  <thead>\n",
       "    <tr style=\"text-align: right;\">\n",
       "      <th></th>\n",
       "      <th>User_ID</th>\n",
       "      <th>Purchase</th>\n",
       "    </tr>\n",
       "  </thead>\n",
       "  <tbody>\n",
       "    <tr>\n",
       "      <th>0</th>\n",
       "      <td>1000004</td>\n",
       "      <td>2066.604980</td>\n",
       "    </tr>\n",
       "    <tr>\n",
       "      <th>1</th>\n",
       "      <td>1000009</td>\n",
       "      <td>1869.736572</td>\n",
       "    </tr>\n",
       "    <tr>\n",
       "      <th>2</th>\n",
       "      <td>1000010</td>\n",
       "      <td>-541.144287</td>\n",
       "    </tr>\n",
       "    <tr>\n",
       "      <th>3</th>\n",
       "      <td>1000010</td>\n",
       "      <td>-541.144287</td>\n",
       "    </tr>\n",
       "    <tr>\n",
       "      <th>4</th>\n",
       "      <td>1000011</td>\n",
       "      <td>151.139282</td>\n",
       "    </tr>\n",
       "  </tbody>\n",
       "</table>\n",
       "</div>"
      ],
      "text/plain": [
       "   User_ID     Purchase\n",
       "0  1000004  2066.604980\n",
       "1  1000009  1869.736572\n",
       "2  1000010  -541.144287\n",
       "3  1000010  -541.144287\n",
       "4  1000011   151.139282"
      ]
     },
     "execution_count": 53,
     "metadata": {},
     "output_type": "execute_result"
    }
   ],
   "source": [
    "submission.head()"
   ]
  },
  {
   "cell_type": "code",
   "execution_count": null,
   "id": "8913a59f",
   "metadata": {},
   "outputs": [],
   "source": []
  }
 ],
 "metadata": {
  "kernelspec": {
   "display_name": "Python 3 (ipykernel)",
   "language": "python",
   "name": "python3"
  },
  "language_info": {
   "codemirror_mode": {
    "name": "ipython",
    "version": 3
   },
   "file_extension": ".py",
   "mimetype": "text/x-python",
   "name": "python",
   "nbconvert_exporter": "python",
   "pygments_lexer": "ipython3",
   "version": "3.9.12"
  }
 },
 "nbformat": 4,
 "nbformat_minor": 5
}
